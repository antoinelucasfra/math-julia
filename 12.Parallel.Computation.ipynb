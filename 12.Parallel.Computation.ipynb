{
 "cells": [
  {
   "cell_type": "markdown",
   "metadata": {},
   "source": [
    "\n",
    "Julia is not fully thread-safe yet."
   ]
  },
  {
   "cell_type": "markdown",
   "metadata": {},
   "source": [
    "# Julia Tasks (aka Coroutines) \n",
    "\n",
    "## Channels\n",
    "\n",
    "Channels can be quite useful to pass data between running tasks, particularly those involving I/O operations.\n",
    "\n"
   ]
  },
  {
   "cell_type": "code",
   "execution_count": 54,
   "metadata": {},
   "outputs": [
    {
     "name": "stdout",
     "output_type": "stream",
     "text": [
      "GFlop/sec        = 1.9827736624208876\n",
      "GFlop/sec (SIMD) = 14.363172824877017\n"
     ]
    }
   ],
   "source": [
    "@noinline function inner(x, y)\n",
    "    s = zero(eltype(x))\n",
    "    for i=eachindex(x)\n",
    "        @inbounds s += x[i]*y[i]\n",
    "    end\n",
    "    return s\n",
    "end\n",
    "\n",
    "@noinline function innersimd(x, y)\n",
    "    s = zero(eltype(x))\n",
    "    @simd for i = eachindex(x)\n",
    "        @inbounds s += x[i] * y[i]\n",
    "    end\n",
    "    return s\n",
    "end\n",
    "\n",
    "function timeit(n, reps)\n",
    "    x = rand(Float32, n)\n",
    "    y = rand(Float32, n)\n",
    "    s = zero(Float64)\n",
    "    time = @elapsed for j in 1:reps\n",
    "        s += inner(x, y)\n",
    "    end\n",
    "    println(\"GFlop/sec        = \", 2n*reps / time*1E-9)\n",
    "    time = @elapsed for j in 1:reps\n",
    "        s += innersimd(x, y)\n",
    "    end\n",
    "    println(\"GFlop/sec (SIMD) = \", 2n*reps / time*1E-9)\n",
    "end\n",
    "\n",
    "timeit(1000, 1000)"
   ]
  },
  {
   "cell_type": "code",
   "execution_count": 55,
   "metadata": {},
   "outputs": [
    {
     "name": "stdout",
     "output_type": "stream",
     "text": [
      "  0.859857 seconds\n",
      "4.443986180758243\n"
     ]
    }
   ],
   "source": [
    "function init!(u::Vector)\n",
    "    n = length(u)\n",
    "    dx = 1.0 / (n-1)\n",
    "    @fastmath @inbounds @simd for i in 1:n #by asserting that `u` is a `Vector` we can assume it has 1-based indexing\n",
    "        u[i] = sin(2pi*dx*i)\n",
    "    end\n",
    "end\n",
    "\n",
    "function deriv!(u::Vector, du)\n",
    "    n = length(u)\n",
    "    dx = 1.0 / (n-1)\n",
    "    @fastmath @inbounds du[1] = (u[2] - u[1]) / dx\n",
    "    @fastmath @inbounds @simd for i in 2:n-1\n",
    "        du[i] = (u[i+1] - u[i-1]) / (2*dx)\n",
    "    end\n",
    "    @fastmath @inbounds du[n] = (u[n] - u[n-1]) / dx\n",
    "end\n",
    "\n",
    "function mynorm(u::Vector)\n",
    "    n = length(u)\n",
    "    T = eltype(u)\n",
    "    s = zero(T)\n",
    "    @fastmath @inbounds @simd for i in 1:n\n",
    "        s += u[i]^2\n",
    "    end\n",
    "    @fastmath @inbounds return sqrt(s/n)\n",
    "end\n",
    "\n",
    "function main()\n",
    "    n = 2000\n",
    "    u = Vector{Float64}(undef, n)\n",
    "    init!(u)\n",
    "    du = similar(u)\n",
    "\n",
    "    deriv!(u, du)\n",
    "    nu = mynorm(du)\n",
    "\n",
    "    @time for i in 1:10^6\n",
    "        deriv!(u, du)\n",
    "        nu = mynorm(du)\n",
    "    end\n",
    "\n",
    "    println(nu)\n",
    "end\n",
    "\n",
    "main()"
   ]
  },
  {
   "cell_type": "code",
   "execution_count": 1,
   "metadata": {
    "scrolled": true
   },
   "outputs": [
    {
     "data": {
      "text/plain": [
       "1-element Array{Int64,1}:\n",
       " 1"
      ]
     },
     "execution_count": 1,
     "metadata": {},
     "output_type": "execute_result"
    }
   ],
   "source": [
    "using Distributed\n",
    "workers()"
   ]
  },
  {
   "cell_type": "code",
   "execution_count": 2,
   "metadata": {},
   "outputs": [
    {
     "data": {
      "text/plain": [
       "3-element Array{Int64,1}:\n",
       " 2\n",
       " 3\n",
       " 4"
      ]
     },
     "execution_count": 2,
     "metadata": {},
     "output_type": "execute_result"
    }
   ],
   "source": [
    "addprocs(3)"
   ]
  },
  {
   "cell_type": "code",
   "execution_count": 3,
   "metadata": {},
   "outputs": [
    {
     "data": {
      "text/plain": [
       "3-element Array{Int64,1}:\n",
       " 2\n",
       " 3\n",
       " 4"
      ]
     },
     "execution_count": 3,
     "metadata": {},
     "output_type": "execute_result"
    }
   ],
   "source": [
    "workers() # proc 1 is now the master and is not a worker anymore"
   ]
  },
  {
   "cell_type": "code",
   "execution_count": 4,
   "metadata": {},
   "outputs": [
    {
     "name": "stdout",
     "output_type": "stream",
     "text": [
      "      From worker 4:\t4\n",
      "      From worker 2:\t2\n",
      "      From worker 3:\t3\n",
      "      From worker 3:\t3\n",
      "      From worker 3:\t3\n",
      "      From worker 4:\t4\n",
      "      From worker 2:\t2\n",
      "      From worker 2:\t2\n"
     ]
    }
   ],
   "source": [
    "psize = 8\n",
    "@distributed for prank=1:psize\n",
    "    println(myid()); # return worker id\n",
    "end;"
   ]
  },
  {
   "cell_type": "code",
   "execution_count": 7,
   "metadata": {},
   "outputs": [
    {
     "name": "stdout",
     "output_type": "stream",
     "text": [
      "1 finished data = 2\n",
      "1 finished data = 4\n",
      "1 finished data = 6\n",
      "1 finished data = 8\n",
      "1 finished data = 10\n",
      "1 finished data = 12\n",
      "1 finished data = 14\n",
      "1 finished data = 16\n"
     ]
    },
    {
     "data": {
      "text/plain": [
       "1.04675385"
      ]
     },
     "execution_count": 7,
     "metadata": {},
     "output_type": "execute_result"
    }
   ],
   "source": [
    "# Given Channels c1 and c2,\n",
    "jobs = Channel(32) # can hold a maximum of 32 objects of any type.\n",
    "results = Channel(32)\n",
    "\n",
    "# and a function `slow_double` which reads items from from c1, \n",
    "# doubles the item read, wait 1 second\n",
    "# and writes a result to c2,\n",
    "function slow_double()\n",
    "    while true\n",
    "        data = take!(jobs)\n",
    "        sleep(1)\n",
    "        put!(results, (myid(),data*2))    # write out result\n",
    "    end\n",
    "end\n",
    "\n",
    "function make_jobs(n)\n",
    "    for i in 1:n\n",
    "        put!(jobs, i)\n",
    "    end\n",
    "end\n",
    "\n",
    "n = 8\n",
    "\n",
    "@async make_jobs(n) # feed the jobs channel with \"n\" jobs\n",
    "\n",
    "# we can schedule `n` instances of `foo` to be active concurrently.\n",
    "for _ in 1:n\n",
    "    @async slow_double()\n",
    "end\n",
    "\n",
    "@elapsed while n > 0 # print out results\n",
    "    global n\n",
    "    job_id, result = take!(results)\n",
    "    println(\"$job_id finished data = $result\")\n",
    "    n = n - 1\n",
    "end"
   ]
  },
  {
   "cell_type": "code",
   "execution_count": 52,
   "metadata": {},
   "outputs": [
    {
     "data": {
      "text/plain": [
       "Task (runnable) @0x0000000111e31b10"
      ]
     },
     "execution_count": 52,
     "metadata": {},
     "output_type": "execute_result"
    },
    {
     "name": "stdout",
     "output_type": "stream",
     "text": [
      "      From worker 3:\t4\n",
      "      From worker 3:\t5\n",
      "      From worker 3:\t6\n",
      "      From worker 2:\t1\n",
      "      From worker 2:\t2\n",
      "      From worker 2:\t3\n",
      "      From worker 4:\t7\n",
      "      From worker 4:\t8\n"
     ]
    }
   ],
   "source": [
    "@everywhere using SharedArrays\n",
    "\n",
    "@everywhere function do_work(x)\n",
    "    println(x)\n",
    "    return x * 2\n",
    "end\n",
    "\n",
    "n = 8\n",
    "S = SharedArray{Int,1}(psize, init = S -> S[localindices(S)] =localindices(S))\n",
    "\n",
    "@distributed for i=1:n\n",
    "    S[i] = do_work(S[i])\n",
    "end"
   ]
  },
  {
   "cell_type": "code",
   "execution_count": 53,
   "metadata": {},
   "outputs": [
    {
     "name": "stdout",
     "output_type": "stream",
     "text": [
      "1\n",
      "2\n",
      "2\n",
      "4\n",
      "3\n",
      "6\n",
      "4\n",
      "8\n",
      "5\n",
      "10\n"
     ]
    }
   ],
   "source": [
    "for i = 1:5\n",
    "    println(double(i))\n",
    "end"
   ]
  },
  {
   "cell_type": "code",
   "execution_count": 12,
   "metadata": {},
   "outputs": [
    {
     "data": {
      "text/plain": [
       "3-element Array{Int64,1}:\n",
       " 2\n",
       " 3\n",
       " 4"
      ]
     },
     "execution_count": 12,
     "metadata": {},
     "output_type": "execute_result"
    }
   ],
   "source": [
    "workers()"
   ]
  },
  {
   "cell_type": "code",
   "execution_count": 3,
   "metadata": {},
   "outputs": [
    {
     "name": "stdout",
     "output_type": "stream",
     "text": [
      "  0.002301 seconds (1 allocation: 4.063 KiB)\n",
      "  0.001591 seconds (1 allocation: 4.063 KiB)\n",
      "  0.002324 seconds (1 allocation: 4.063 KiB)\n",
      "  0.001675 seconds (1 allocation: 4.063 KiB)\n",
      "  0.002320 seconds (1 allocation: 4.063 KiB)\n",
      "  0.001584 seconds (1 allocation: 4.063 KiB)\n"
     ]
    }
   ],
   "source": [
    "function timestep(b::Vector{T}, a::Vector{T}, Δt::T) where T\n",
    "    @assert length(a)==length(b)\n",
    "    n = length(b)\n",
    "    b[1] = 1                            # Boundary condition\n",
    "    for i=2:n-1\n",
    "        b[i] = a[i] + (a[i-1] - T(2)*a[i] + a[i+1]) * Δt\n",
    "    end\n",
    "    b[n] = 0                            # Boundary condition\n",
    "end\n",
    "\n",
    "function heatflow(a::Vector{T}, nstep::Integer) where T\n",
    "    b = similar(a)\n",
    "    for t=1:div(nstep,2)                # Assume nstep is even\n",
    "        timestep(b,a,T(0.1))\n",
    "        timestep(a,b,T(0.1))\n",
    "    end\n",
    "end\n",
    "\n",
    "heatflow(zeros(Float32,10),2)           # Force compilation\n",
    "for trial=1:6\n",
    "    a = zeros(Float32,1000)\n",
    "    set_zero_subnormals(iseven(trial))  # Odd trials use strict IEEE arithmetic\n",
    "    @time heatflow(a,1000)\n",
    "end"
   ]
  },
  {
   "cell_type": "code",
   "execution_count": null,
   "metadata": {},
   "outputs": [],
   "source": []
  }
 ],
 "metadata": {
  "kernelspec": {
   "display_name": "Julia 1.0.0",
   "language": "julia",
   "name": "julia-1.0"
  },
  "language_info": {
   "file_extension": ".jl",
   "mimetype": "application/julia",
   "name": "julia",
   "version": "1.0.0"
  }
 },
 "nbformat": 4,
 "nbformat_minor": 2
}
