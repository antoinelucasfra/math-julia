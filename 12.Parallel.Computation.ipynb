{
 "cells": [
  {
   "cell_type": "markdown",
   "metadata": {},
   "source": [
    "\n",
    "Julia is not fully thread-safe yet."
   ]
  },
  {
   "cell_type": "markdown",
   "metadata": {},
   "source": [
    "# Julia Tasks (aka Coroutines) \n",
    "\n",
    "## Channels\n",
    "\n",
    "Channels can be quite useful to pass data between running tasks, particularly those involving I/O operations.\n",
    "\n"
   ]
  },
  {
   "cell_type": "code",
   "execution_count": 15,
   "metadata": {},
   "outputs": [],
   "source": [
    "# Given Channels c1 and c2,\n",
    "c1 = Channel(32) # can hold a maximum of 32 objects of any type.\n",
    "c2 = Channel(32)\n",
    "\n",
    "# and a function `slow_double` which reads items from from c1, \n",
    "# doubles the item read, wait 1 second\n",
    "# and writes a result to c2,\n",
    "function slow_double()\n",
    "    while true\n",
    "        data = take!(c1)\n",
    "        sleep(1)\n",
    "        result = 2 * data   # process data\n",
    "        put!(c2, result)    # write out result\n",
    "    end\n",
    "end\n",
    "\n",
    "n = 8\n",
    "# we can schedule `n` instances of `foo` to be active concurrently.\n",
    "for _ in 1:n\n",
    "    @async slow_double()\n",
    "end"
   ]
  },
  {
   "cell_type": "code",
   "execution_count": null,
   "metadata": {},
   "outputs": [],
   "source": []
  },
  {
   "cell_type": "code",
   "execution_count": 1,
   "metadata": {
    "scrolled": true
   },
   "outputs": [
    {
     "data": {
      "text/plain": [
       "1-element Array{Int64,1}:\n",
       " 1"
      ]
     },
     "execution_count": 1,
     "metadata": {},
     "output_type": "execute_result"
    }
   ],
   "source": [
    "using Distributed\n",
    "workers()"
   ]
  },
  {
   "cell_type": "code",
   "execution_count": 2,
   "metadata": {},
   "outputs": [
    {
     "data": {
      "text/plain": [
       "3-element Array{Int64,1}:\n",
       " 2\n",
       " 3\n",
       " 4"
      ]
     },
     "execution_count": 2,
     "metadata": {},
     "output_type": "execute_result"
    }
   ],
   "source": [
    "addprocs(3)"
   ]
  },
  {
   "cell_type": "code",
   "execution_count": 3,
   "metadata": {},
   "outputs": [
    {
     "data": {
      "text/plain": [
       "3-element Array{Int64,1}:\n",
       " 2\n",
       " 3\n",
       " 4"
      ]
     },
     "execution_count": 3,
     "metadata": {},
     "output_type": "execute_result"
    }
   ],
   "source": [
    "workers() # proc 1 is now the master and is not a worker anymore"
   ]
  },
  {
   "cell_type": "code",
   "execution_count": 6,
   "metadata": {},
   "outputs": [
    {
     "name": "stdout",
     "output_type": "stream",
     "text": [
      "      From worker 2:\t2\n",
      "      From worker 2:\t2\n",
      "      From worker 2:\t2\n",
      "      From worker 3:\t3\n",
      "      From worker 4:\t4\n",
      "      From worker 4:\t4\n",
      "      From worker 3:\t3\n",
      "      From worker 3:\t3\n"
     ]
    }
   ],
   "source": [
    "psize = 8\n",
    "@distributed for prank=1:psize\n",
    "    println(myid()); # return worker id\n",
    "end;"
   ]
  },
  {
   "cell_type": "code",
   "execution_count": 8,
   "metadata": {},
   "outputs": [
    {
     "name": "stderr",
     "output_type": "stream",
     "text": [
      "WARNING: Base.SharedArray is deprecated, run `using SharedArrays` to load shared array functionality\n",
      "  likely near In[8]:3\n"
     ]
    },
    {
     "data": {
      "text/plain": [
       "Task (runnable) @0x000000011b2c5450"
      ]
     },
     "execution_count": 8,
     "metadata": {},
     "output_type": "execute_result"
    }
   ],
   "source": [
    "using SharedArrays\n",
    "psize = 8\n",
    "a = SharedArray{Int}(1,psize) # Tableau partagé\n",
    "@distributed for prank=1:psize\n",
    "    a[i] = myid()\n",
    "end"
   ]
  },
  {
   "cell_type": "code",
   "execution_count": 10,
   "metadata": {},
   "outputs": [
    {
     "data": {
      "text/plain": [
       "1×8 Array{Int64,2}:\n",
       " 0  0  0  0  0  0  0  0"
      ]
     },
     "execution_count": 10,
     "metadata": {},
     "output_type": "execute_result"
    }
   ],
   "source": [
    "collect(a)"
   ]
  },
  {
   "cell_type": "code",
   "execution_count": null,
   "metadata": {},
   "outputs": [],
   "source": []
  },
  {
   "cell_type": "code",
   "execution_count": null,
   "metadata": {},
   "outputs": [],
   "source": []
  }
 ],
 "metadata": {
  "kernelspec": {
   "display_name": "Julia 0.7.0",
   "language": "julia",
   "name": "julia-0.7"
  },
  "language_info": {
   "file_extension": ".jl",
   "mimetype": "application/julia",
   "name": "julia",
   "version": "0.7.0"
  }
 },
 "nbformat": 4,
 "nbformat_minor": 2
}
