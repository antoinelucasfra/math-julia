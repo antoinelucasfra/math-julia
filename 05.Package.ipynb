{
 "cells": [
  {
   "cell_type": "markdown",
   "metadata": {
    "slideshow": {
     "slide_type": "slide"
    }
   },
   "source": [
    "# Who am I ?\n",
    "\n",
    "My name is *Pierre Navaro*\n",
    "\n",
    "I grew up in Normandy, France.\n",
    "\n",
    "Ph.D in Computational Aeroacoustics, 1998-2002 (Université du Havre)\n",
    "\n",
    "Scientific Software Engineer in Strasbourg (2003-2015)\n",
    "\n",
    "Moved to Rennes in 2015\n",
    "\n",
    "Skills : Python and Fortran with parallel programming.\n",
    "\n",
    "Julia user since July 2018 (Julia v1.0)"
   ]
  },
  {
   "cell_type": "markdown",
   "metadata": {
    "slideshow": {
     "slide_type": "slide"
    }
   },
   "source": [
    "# Why should i do a package ?\n",
    "\n",
    "- Share your code and maintain it.\n",
    "- Improve your programming pratices.\n",
    "- Continuous integration is easier (Github+Travis-CI).\n",
    "- Documentation can be generated automatically.\n",
    "- Standard source files organization."
   ]
  },
  {
   "cell_type": "markdown",
   "metadata": {
    "slideshow": {
     "slide_type": "slide"
    }
   },
   "source": [
    "# Configure git\n",
    "\n",
    "```bash\n",
    "git config --global user.name \"Pierre Navaro\"\n",
    "git config --global user.email \"pierre.navaro@math.cnrs.fr\"\n",
    "git config --global github.user \"pnavaro\"\n",
    "```"
   ]
  },
  {
   "cell_type": "markdown",
   "metadata": {
    "slideshow": {
     "slide_type": "slide"
    }
   },
   "source": [
    "# Create the Julia package LyonCalcul\n",
    "\n",
    "```julia\n",
    "(v1.0) pkg> generate LyonCalcul\n",
    "Generating project LyonCalcul:\n",
    "    LyonCalcul/Project.toml\n",
    "    LyonCalcul/src/LyonCalcul.jl\n",
    "```"
   ]
  },
  {
   "cell_type": "markdown",
   "metadata": {
    "slideshow": {
     "slide_type": "slide"
    }
   },
   "source": [
    "```julia\n",
    "shell> cat LyonCalcul/Project.toml\n",
    "authors = [\"Pierre Navaro <pierre.navaro@math.cnrs.fr>\"]\n",
    "name = \"LyonCalcul\"\n",
    "uuid = \"417a5b38-18da-11e9-35ce-9bdc85ad86c9\"\n",
    "version = \"0.1.0\"\n",
    "\n",
    "[deps]\n",
    "```"
   ]
  },
  {
   "cell_type": "markdown",
   "metadata": {},
   "source": [
    "```julia\n",
    "shell> cat LyonCalcul/src/LyonCalcul.jl\n",
    "module LyonCalcul\n",
    "\n",
    "greet() = print(\"Hello World!\")\n",
    "\n",
    "end # module\n",
    "```"
   ]
  },
  {
   "cell_type": "markdown",
   "metadata": {
    "slideshow": {
     "slide_type": "slide"
    }
   },
   "source": [
    "# The LyonCalcul.jl module"
   ]
  },
  {
   "cell_type": "code",
   "execution_count": 20,
   "metadata": {
    "slideshow": {
     "slide_type": "subslide"
    }
   },
   "outputs": [
    {
     "name": "stderr",
     "output_type": "stream",
     "text": [
      "WARNING: replacing module LyonCalcul.\n"
     ]
    },
    {
     "data": {
      "text/plain": [
       "Main.LyonCalcul"
      ]
     },
     "execution_count": 20,
     "metadata": {},
     "output_type": "execute_result"
    }
   ],
   "source": [
    "module LyonCalcul\n",
    "\n",
    "export bspline\n",
    "\n",
    "\"\"\"\n",
    "    bspline(p, j, x)\n",
    "\n",
    "Return the value at x in [0,1[ of the B-spline with integer nodes of degree p with support starting at j.\n",
    "Implemented recursively using the [De Boor's Algorithm](https://en.wikipedia.org/wiki/De_Boor%27s_algorithm)\n",
    "\n",
    "```math\n",
    "B_{i,0}(x) := \\\\left\\\\{\n",
    "\\\\begin{matrix}\n",
    "1 & \\\\mathrm{if}  \\\\quad t_i ≤ x < t_{i+1} \\\\\\\\\n",
    "0 & \\\\mathrm{otherwise} \n",
    "\\\\end{matrix}\n",
    "\\\\right.\n",
    "```\n",
    "\n",
    "```math\n",
    "B_{i,p}(x) := \\\\frac{x - t_i}{t_{i+p} - t_i} B_{i,p-1}(x) \n",
    "+ \\\\frac{t_{i+p+1} - x}{t_{i+p+1} - t_{i+1}} B_{i+1,p-1}(x).\n",
    "```\n",
    "\"\"\"\n",
    "function bspline(p::Int, j::Int, x::Float64)\n",
    "   if p == 0\n",
    "       if j == 0\n",
    "           return 1.0\n",
    "       else\n",
    "           return 0.0\n",
    "       end\n",
    "   else\n",
    "       w = (x - j) / p\n",
    "       w1 = (x - j - 1) / p\n",
    "   end\n",
    "   return (w * bspline(p - 1, j, x) + (1 - w1) * bspline(p - 1, j + 1, x))\n",
    "end\n",
    "\n",
    "end # module"
   ]
  },
  {
   "cell_type": "markdown",
   "metadata": {},
   "source": [
    "# Activate your package"
   ]
  },
  {
   "cell_type": "markdown",
   "metadata": {},
   "source": [
    "```julia\n",
    "(v1.0) pkg> activate LyonCalcul\n",
    "\n",
    "(LyonCalcul) pkg> instantiate\n",
    "  Updating registry at `~/.julia/registries/General`\n",
    "  Updating git-repo `https://github.com/JuliaRegistries/General.git`\n",
    " Resolving package versions...\n",
    "  Updating `~/JuliaProjects/LyonCalcul/Project.toml`\n",
    " [no changes]\n",
    "```"
   ]
  },
  {
   "cell_type": "markdown",
   "metadata": {},
   "source": [
    "# Add some dependencies\n",
    "```julia\n",
    "(LyonCalcul) pkg> add FFTW\n",
    " Resolving package versions...\n",
    "  Updating `~/JuliaProjects/LyonCalcul/Project.toml`\n",
    "  [7a1cc6ca] + FFTW v0.2.4\n",
    "  Updating `~/JuliaProjects/LyonCalcul/Manifest.toml`\n",
    "  [621f4979] + AbstractFFTs v0.3.2\n",
    "  [b99e7846] + BinaryProvider v0.5.3\n",
    "  [34da2185] + Compat v1.4.0\n",
    "  [8f4d0f93] + Conda v1.1.1\n",
    "  ...\n",
    "```"
   ]
  },
  {
   "cell_type": "markdown",
   "metadata": {
    "slideshow": {
     "slide_type": "slide"
    }
   },
   "source": [
    "\" The Manifest.toml allows someone to replicate the exact version of the dependencies that was recorded in the manifest on e.g. another machine. For a package that is to be used as a library, this is not useful.\n",
    "\n",
    "However, for an “application”, i.e. something at “top level” (say your julia code to do the simulations in a scientific paper) then it is likely useful to be able to replicate that exact state and the Manifest is thus useful to check in.\"\n",
    "\n",
    "\n",
    "*Kristoffer Carlsson* (Julia Computing)"
   ]
  },
  {
   "cell_type": "markdown",
   "metadata": {
    "slideshow": {
     "slide_type": "slide"
    }
   },
   "source": [
    "# Check the documentation"
   ]
  },
  {
   "cell_type": "markdown",
   "metadata": {},
   "source": [
    "```julia\n",
    "julia> using LyonCalcul\n",
    "\n",
    "help?> bspline\n",
    "search: bspline\n",
    "\n",
    "  bspline(p, j, x)\n",
    "\n",
    "  Return the value at x in [0,1[ of the B-spline with integer nodes of degree p with support starting at j.\n",
    "  Implemented recursively using the De Boor's Algorithm (https://en.wikipedia.org/wiki/De_Boor%27s_algorithm)\n",
    "\n",
    "B_{i,0}(x) := \\left\\{\n",
    "\\begin{matrix}\n",
    "1 & \\mathrm{if}  \\quad t_i ≤ x < t_{i+1} \\\\\n",
    "0 & \\mathrm{otherwise}\n",
    "\\end{matrix}\n",
    "\\right.\n",
    "\n",
    "B_{i,p}(x) := \\frac{x - t_i}{t_{i+p} - t_i} B_{i,p-1}(x)\n",
    "+ \\frac{t_{i+p+1} - x}{t_{i+p+1} - t_{i+1}} B_{i+1,p-1}(x).\n",
    "```"
   ]
  },
  {
   "cell_type": "code",
   "execution_count": 23,
   "metadata": {
    "slideshow": {
     "slide_type": "slide"
    }
   },
   "outputs": [
    {
     "data": {
      "text/latex": [
       "\\begin{verbatim}\n",
       "bspline(p, j, x)\n",
       "\\end{verbatim}\n",
       "Return the value at x in [0,1[ of the B-spline with integer nodes of degree p with support starting at j. Implemented recursively using the \\href{https://en.wikipedia.org/wiki/De_Boor%27s_algorithm}{De Boor's Algorithm}\n",
       "\n",
       "$$B_{i,0}(x) := \\left\\{\n",
       "\\begin{matrix}\n",
       "1 & \\mathrm{if}  \\quad t_i ≤ x < t_{i+1} \\\\\n",
       "0 & \\mathrm{otherwise} \n",
       "\\end{matrix}\n",
       "\\right.$$\n",
       "$$B_{i,p}(x) := \\frac{x - t_i}{t_{i+p} - t_i} B_{i,p-1}(x) \n",
       "+ \\frac{t_{i+p+1} - x}{t_{i+p+1} - t_{i+1}} B_{i+1,p-1}(x).$$\n"
      ],
      "text/markdown": [
       "```\n",
       "bspline(p, j, x)\n",
       "```\n",
       "\n",
       "Return the value at x in [0,1[ of the B-spline with integer nodes of degree p with support starting at j. Implemented recursively using the [De Boor's Algorithm](https://en.wikipedia.org/wiki/De_Boor%27s_algorithm)\n",
       "\n",
       "$$\n",
       "B_{i,0}(x) := \\left\\{\n",
       "\\begin{matrix}\n",
       "1 & \\mathrm{if}  \\quad t_i ≤ x < t_{i+1} \\\\\n",
       "0 & \\mathrm{otherwise} \n",
       "\\end{matrix}\n",
       "\\right.\n",
       "$$\n",
       "\n",
       "$$\n",
       "B_{i,p}(x) := \\frac{x - t_i}{t_{i+p} - t_i} B_{i,p-1}(x) \n",
       "+ \\frac{t_{i+p+1} - x}{t_{i+p+1} - t_{i+1}} B_{i+1,p-1}(x).\n",
       "$$\n"
      ],
      "text/plain": [
       "\u001b[36m  bspline(p, j, x)\u001b[39m\n",
       "\n",
       "  Return the value at x in [0,1[ of the B-spline with integer nodes of degree\n",
       "  p with support starting at j. Implemented recursively using the De Boor's\n",
       "  Algorithm (https://en.wikipedia.org/wiki/De_Boor%27s_algorithm)\n",
       "\n",
       "\u001b[35mB_{i,0}(x) := \\left\\{\u001b[39m\n",
       "\u001b[35m\\begin{matrix}\u001b[39m\n",
       "\u001b[35m1 & \\mathrm{if}  \\quad t_i ≤ x < t_{i+1} \\\\\u001b[39m\n",
       "\u001b[35m0 & \\mathrm{otherwise} \u001b[39m\n",
       "\u001b[35m\\end{matrix}\u001b[39m\n",
       "\u001b[35m\\right.\u001b[39m\n",
       "\n",
       "\u001b[35mB_{i,p}(x) := \\frac{x - t_i}{t_{i+p} - t_i} B_{i,p-1}(x) \u001b[39m\n",
       "\u001b[35m+ \\frac{t_{i+p+1} - x}{t_{i+p+1} - t_{i+1}} B_{i+1,p-1}(x).\u001b[39m"
      ]
     },
     "execution_count": 23,
     "metadata": {},
     "output_type": "execute_result"
    }
   ],
   "source": [
    "?LyonCalcul.bspline"
   ]
  },
  {
   "cell_type": "markdown",
   "metadata": {
    "slideshow": {
     "slide_type": "slide"
    }
   },
   "source": [
    "# Add a test\n",
    "\n",
    "```bash\n",
    "cd LyonCalcul\n",
    "mkdir test\n",
    "```\n",
    "\n",
    "add file runtests.jl"
   ]
  },
  {
   "cell_type": "markdown",
   "metadata": {
    "slideshow": {
     "slide_type": "slide"
    }
   },
   "source": [
    "```julia\n",
    "shell> cat LyonCalcul/test/runtests.jl\n",
    "using Test\n",
    "using LyonCalcul\n",
    "\n",
    "@testset \"Test bspline function\" begin\n",
    "\n",
    "    for p in 1:5\n",
    "        @test sum([bspline(p, j, 0.5) for j in -p:0]) ≈ 1.0 atol = 1e-16\n",
    "    end\n",
    "end\n",
    "\n",
    "```"
   ]
  },
  {
   "cell_type": "markdown",
   "metadata": {},
   "source": [
    "## Verify the test\n",
    "\n",
    "```julia\n",
    "(LyonCalcul) pkg> add Test\n",
    " Resolving package versions...\n",
    "  Updating `~/JuliaProjects/LyonCalcul/Project.toml`\n",
    "  [8dfed614] + Test\n",
    "  Updating `~/JuliaProjects/LyonCalcul/Manifest.toml`\n",
    " [no changes]\n",
    "\n",
    "(LyonCalcul) pkg> test\n",
    "   Testing LyonCalcul\n",
    " Resolving package versions...\n",
    "Test Summary:         | Pass  Total\n",
    "Test bspline function |    5      5\n",
    "   Testing LyonCalcul tests passed\n",
    "```"
   ]
  },
  {
   "cell_type": "code",
   "execution_count": 24,
   "metadata": {},
   "outputs": [
    {
     "data": {
      "text/plain": [
       "interpolate"
      ]
     },
     "execution_count": 24,
     "metadata": {},
     "output_type": "execute_result"
    }
   ],
   "source": [
    "\"\"\"\n",
    "    interpolate( p, f, delta, alpha)\n",
    "\n",
    "Compute the interpolating spline of degree p of odd\n",
    "degree of a 1D function f on a periodic uniform mesh, at\n",
    "all points x-alpha. f type is Vector{Float64}.\n",
    "\n",
    "Derived from a Python program written by\n",
    "Eric Sonnendrucker (Max-Planck-Institut fur Plasmaphysik - Garching)\n",
    "\n",
    "\"\"\"\n",
    "function interpolate(p     :: Int,\n",
    "                     f     :: Vector{Float64},\n",
    "                     delta :: Float64,\n",
    "                     alpha :: Float64)\n",
    "\n",
    "   n = size(f)[1]\n",
    "   modes = 2π * (0:n-1) / n\n",
    "   eig_bspl = zeros(Complex{Float64},n)\n",
    "   eig_bspl .= bspline(p, -div(p+1,2), 0.0)\n",
    "   for j in 1:div(p+1,2)-1\n",
    "      eig_bspl .+= (bspline(p, j-div(p+1,2), 0.0)\n",
    "         * 2 * cos.(j * modes))\n",
    "   end\n",
    "   ishift = floor(- alpha / delta)\n",
    "   beta = - ishift - alpha / delta\n",
    "   eigalpha = zeros(Complex{Float64},n)\n",
    "   for j in -div(p-1,2):div(p+1,2)\n",
    "      eigalpha .+= (bspline(p, j-div(p+1,2), beta)\n",
    "         .* exp.((ishift + j) * 1im .* modes))\n",
    "   end\n",
    "\n",
    "   real(ifft(fft(f) .* eigalpha ./ eig_bspl))\n",
    "\n",
    "end"
   ]
  },
  {
   "cell_type": "code",
   "execution_count": 30,
   "metadata": {
    "slideshow": {
     "slide_type": "slide"
    }
   },
   "outputs": [
    {
     "ename": "ArgumentError",
     "evalue": "ArgumentError: Package LyonCalcul not found in current path:\n- Run `import Pkg; Pkg.add(\"LyonCalcul\")` to install the LyonCalcul package.\n",
     "output_type": "error",
     "traceback": [
      "ArgumentError: Package LyonCalcul not found in current path:\n- Run `import Pkg; Pkg.add(\"LyonCalcul\")` to install the LyonCalcul package.\n",
      "",
      "Stacktrace:",
      " [1] require(::Module, ::Symbol) at ./loading.jl:823",
      " [2] top-level scope at In[30]:1"
     ]
    }
   ],
   "source": [
    "using Plots, LyonCalcul\n",
    "gr()\n",
    "xmin, xmax, nx = 0, 4π, 128\n",
    "x = range(xmin, stop=xmax, length=nx+1)[1:end-1] |> collect\n",
    "f = sin.(x) .- cos.(2x)\n",
    "plot(x, f)\n",
    "p = 5\n",
    "dx = (xmax - xmin) / nx\n",
    "alpha = 1.0\n",
    "plot(x, interpolate(5, f, dx, alpha))"
   ]
  },
  {
   "cell_type": "markdown",
   "metadata": {},
   "source": [
    "- Create docs directory\n",
    "- add docs/src/index.md file with\n",
    "\n",
    "~~~\n",
    "# Example.jl Documentation\n",
    "\n",
    "## Types and Functions\n",
    "\n",
    "```@autodocs\n",
    "Modules = [Example]\n",
    "Order   = [:type, :function]\n",
    "```\n",
    "\n",
    "~~~"
   ]
  },
  {
   "cell_type": "markdown",
   "metadata": {},
   "source": [
    "## Documentation\n",
    "\n",
    "https://github.com/JuliaDocs/Documenter.jl"
   ]
  },
  {
   "cell_type": "markdown",
   "metadata": {},
   "source": [
    "- Push changes to github\n",
    "- add docs/build in .gitignore\n",
    "- add Manifest.toml also\n",
    "\n",
    "\n",
    "\n",
    "\n",
    "- Create `docs/make.jl` file\n",
    "\n",
    "```julia\n",
    "\n",
    "using Example\n",
    "using Documenter\n",
    "\n",
    "makedocs(modules=[Example],\n",
    "         doctest = false,\n",
    "         format = :html,\n",
    "         sitename = \"Example.jl\",\n",
    "         pages = [\"Documentation\"    => \"index.md\"])\n",
    "\n",
    "deploydocs(\n",
    "    deps   = Deps.pip(\"mkdocs\", \"python-markdown-math\"),\n",
    "    repo   = \"github.com/pnavaro/Example.jl.git\",\n",
    " )\n",
    "```\n",
    "\n",
    "- Install first version of Example package in your julia installation\n",
    "\n",
    "```julia\n",
    "(v1.0) pkg> add https://github.com/pnavaro/Example.jl.git\n",
    "```\n",
    "\n",
    "- Test it\n",
    "```bash\n",
    "cd docs\n",
    "julia make.jl\n",
    "```"
   ]
  },
  {
   "cell_type": "markdown",
   "metadata": {},
   "source": [
    "*This notebook was generated using [Literate.jl](https://github.com/fredrikekre/Literate.jl).*"
   ]
  },
  {
   "cell_type": "markdown",
   "metadata": {
    "slideshow": {
     "slide_type": "slide"
    }
   },
   "source": [
    "# Add a repository on Github\n",
    "\n",
    "https://github.com/pnavaro/LyonCalcul.jl\n",
    "\n",
    "- The repository name has the \".jl\" extension"
   ]
  },
  {
   "cell_type": "markdown",
   "metadata": {},
   "source": [
    "# Travis\n",
    "\n",
    "https://travis-ci.org\n",
    "\n",
    "- Profile -> Settings\n",
    "-"
   ]
  },
  {
   "cell_type": "markdown",
   "metadata": {
    "slideshow": {
     "slide_type": "slide"
    }
   },
   "source": [
    "# Push the package on github\n",
    "\n",
    "```bash\n",
    "cd LyonCalcul\n",
    "echo \"# LyonCalcul.jl\" >> README.md\n",
    "git init\n",
    "git add README.md\n",
    "git commit -m \"first commit\"\n",
    "git remote add origin git@github.com:pnavaro/LyonCalcul.jl.git\n",
    "git push -u origin master\n",
    "```"
   ]
  },
  {
   "cell_type": "markdown",
   "metadata": {
    "slideshow": {
     "slide_type": "slide"
    }
   },
   "source": [
    "# On Github choose your license\n",
    "\n",
    "Above the file list, click Create new file.\n",
    "\n",
    "In the file name field, type LICENSE (with all caps).\n",
    "\n",
    "- Choose a license template button.\n",
    "- Click Choose a license template.\n",
    "- Add a license to your project.\n",
    "- Don't create pull request choose \"master\" branch."
   ]
  },
  {
   "cell_type": "markdown",
   "metadata": {
    "slideshow": {
     "slide_type": "slide"
    }
   },
   "source": [
    "# On your computer\n",
    "\n",
    "```bash\n",
    "git pull origin master\n",
    "```"
   ]
  }
 ],
 "metadata": {
  "celltoolbar": "Slideshow",
  "kernelspec": {
   "display_name": "Julia 1.0.3",
   "language": "julia",
   "name": "julia-1.0"
  },
  "language_info": {
   "file_extension": ".jl",
   "mimetype": "application/julia",
   "name": "julia",
   "version": "1.0.3"
  }
 },
 "nbformat": 4,
 "nbformat_minor": 3
}
