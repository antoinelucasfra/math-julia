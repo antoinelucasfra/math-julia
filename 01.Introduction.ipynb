{
 "cells": [
  {
   "cell_type": "markdown",
   "metadata": {
    "slideshow": {
     "slide_type": "slide"
    }
   },
   "source": [
    "![logo](https://julialang.org/v2/img/logo.svg)"
   ]
  },
  {
   "cell_type": "markdown",
   "metadata": {
    "slideshow": {
     "slide_type": "slide"
    }
   },
   "source": [
    "- High-level language for numerical computing.\n",
    "- Born in 2009 and version 1.0 was released in August 2018.\n",
    "- Dynamically-typed, feels like a scripting language, and has good support for interactive use.\n",
    "- Easy to learn for people that comes from R and Python.\n",
    "- Designed from the beginning to be fast as Fortran and C\n",
    "- Julia programs compile to efficient native code via [LLVM](https://llvm.org).\n",
    "- Many scientific packages.\n",
    "- Rich Ecosystem for Scientific Computing and Data Science.\n",
    "- Designed for parallelism, and provides built-in primitives for parallel computing"
   ]
  },
  {
   "cell_type": "markdown",
   "metadata": {},
   "source": [
    "# Installation \n",
    "\n",
    "- Download for your plaform at http://julialang.org/downloads/\n",
    "- Type julia in a terminal\n",
    "\n",
    "![julia shell](images/julia_prompt.png)\n",
    "\n",
    "Le prompt <code>julia></code> invitant la commande... "
   ]
  },
  {
   "cell_type": "markdown",
   "metadata": {
    "slideshow": {
     "slide_type": "slide"
    }
   },
   "source": [
    "- \"Tab\" for autocompletion\n",
    "- <code>pwd()</code> (Current directory)\n",
    "- <code>cd()</code> (Change directory), \n",
    "- <code>homedir()</code> (Home directory)\n",
    "- Use <code>;</code> to switch to unix shell.\n",
    "- <code>help(\"sin\")</code> ou <code>?sin</code> toggles the help mode."
   ]
  },
  {
   "cell_type": "markdown",
   "metadata": {
    "slideshow": {
     "slide_type": "slide"
    }
   },
   "source": [
    "## Run julia code.\n",
    "\n",
    "Julia programs use \".jl\" extension by convention and can be executed in the julia prompt with:\n",
    "```julia\n",
    "include(\"my_program.jl\")\n",
    "```"
   ]
  },
  {
   "cell_type": "markdown",
   "metadata": {
    "slideshow": {
     "slide_type": "slide"
    }
   },
   "source": [
    "# IDE\n",
    "\n",
    "- No dedicated IDE but plugins for existing tools.\n",
    "- IntellJ, Eclipse, PyCharm\n",
    "- [VS Code](https://github.com/JuliaEditorSupport/julia-vscode)\n",
    "- Atom and [Juno]([Juno](http://junolab.org/)\n",
    "- [Sublime Text 3](https://github.com/quinnj/Sublime-IJulia)"
   ]
  },
  {
   "cell_type": "markdown",
   "metadata": {
    "slideshow": {
     "slide_type": "slide"
    }
   },
   "source": [
    "# Packages\n",
    "\n",
    "- Use <code>]</code> to switch to package manager.\n",
    "\n",
    "```\n",
    "pkg> add IJulia\n",
    "```\n",
    "\n",
    "will install the package. Type `help` to display all available commands.\n",
    "\n",
    "Use \"backspace\" to go back to the `julia` shell.\n",
    "\n",
    "https://pkg.julialang.org\n",
    "\n",
    "The package is installed in directory `~/.julia/`\n",
    "\n",
    "To import the package, type:\n",
    "```julia\n",
    "using IJulia\n",
    "```"
   ]
  },
  {
   "cell_type": "markdown",
   "metadata": {
    "slideshow": {
     "slide_type": "slide"
    }
   },
   "source": [
    "# JuPyTer Notebook\n",
    "\n",
    "The Jupyter Notebook is an open-source web application that allows you to create and share documents that contain live code, equations, visualizations and narrative text. Uses include: data cleaning and transformation, numerical simulation, statistical modeling, data visualization, machine learning, and much more.\n",
    "\n",
    "type:\n",
    "```julia\n",
    "using IJulia\n",
    "notebook()  # use notebook(detached=true) \n",
    "```\n",
    "\n",
    "To convert a notebook file `.ipynb` in julia program `.jl`: \n",
    "* In the top menu `File->Download as`\n",
    "* Command line : ```ipython nbconvert --to script my_notebook.ipynb```.\n",
    "\n"
   ]
  }
 ],
 "metadata": {
  "celltoolbar": "Slideshow",
  "kernelspec": {
   "display_name": "Julia 0.7.0",
   "language": "julia",
   "name": "julia-0.7"
  },
  "language_info": {
   "file_extension": ".jl",
   "mimetype": "application/julia",
   "name": "julia",
   "version": "0.7.0"
  }
 },
 "nbformat": 4,
 "nbformat_minor": 2
}
