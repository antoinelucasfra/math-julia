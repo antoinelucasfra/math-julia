{
 "cells": [
  {
   "cell_type": "markdown",
   "metadata": {
    "slideshow": {
     "slide_type": "slide"
    }
   },
   "source": [
    "![logo](https://julialang.org/v2/img/logo.svg)"
   ]
  },
  {
   "cell_type": "markdown",
   "metadata": {
    "slideshow": {
     "slide_type": "slide"
    }
   },
   "source": [
    "- High-level language for numerical computing.\n",
    "- Born in 2009 and version 1.0 was released in August 2018.\n",
    "- Dynamically-typed with optional types, feels like a scripting language, and has good support for interactive use.\n",
    "- Easy to learn for people that comes from R and Python.\n",
    "- Designed from the beginning to be fast as Fortran and C\n",
    "- Julia programs compile to efficient native code via [LLVM](https://llvm.org).\n",
    "- Many scientific packages.\n",
    "- Rich Ecosystem for Scientific Computing and Data Science.\n",
    "- Designed for parallelism, and provides built-in primitives for parallel computing\n",
    "- can call C and Fortran libraries natively\n",
    "- can call Python libraries via PyCall package"
   ]
  },
  {
   "cell_type": "markdown",
   "metadata": {
    "slideshow": {
     "slide_type": "slide"
    }
   },
   "source": [
    "# Installation \n",
    "\n",
    "- Download for your plaform at http://julialang.org/downloads/\n",
    "\n",
    "- You can also try online via https://www.juliabox.com/ which provides hosted Julia notebooks on Google Cloud.\n",
    "\n",
    "- If you need corporate support, https://juliacomputing.com/products/juliapro.html provides a _batteries included_ installation of Julia. The company is run by some of the creators of the language and provides a single install with all of the most important add-ons.\n",
    "\n",
    "- Most Linux distributions come with Julia packages in their repositories. However, these may lag somewhat behind the current rather fast development cycle.\n",
    "\n",
    "- Notebooks are available on https://github.com/pnavaro/math-julia"
   ]
  },
  {
   "cell_type": "markdown",
   "metadata": {},
   "source": [
    "\n"
   ]
  },
  {
   "cell_type": "markdown",
   "metadata": {},
   "source": [
    "# Julia shell\n",
    "- Type julia in a terminal\n",
    "![julia shell](images/julia_prompt.png)\n",
    "\n",
    "\n"
   ]
  },
  {
   "cell_type": "markdown",
   "metadata": {
    "slideshow": {
     "slide_type": "slide"
    }
   },
   "source": [
    "- \"Tab\" for autocompletion\n",
    "- <code>pwd()</code> (Current directory)\n",
    "- <code>cd()</code> (Change directory), \n",
    "- <code>homedir()</code> (Home directory)\n",
    "- Use <code>;</code> to switch to unix shell.\n",
    "- <code>help(\"sin\")</code> ou <code>?sin</code> toggles the help mode."
   ]
  },
  {
   "cell_type": "markdown",
   "metadata": {
    "slideshow": {
     "slide_type": "slide"
    }
   },
   "source": [
    "## Run julia code.\n",
    "\n",
    "Julia programs use \".jl\" extension by convention and can be executed in the julia prompt with:\n",
    "```julia\n",
    "include(\"my_program.jl\")\n",
    "```\n",
    "- Julia is first translated into an intermediate representation.\n",
    "- Then LLVM compiles it for your machine.\n",
    "\n",
    "This means that\n",
    "- re-running the same code is faster the second time around\n",
    "- it runs at speeds comparable to compiled C or Fortran code"
   ]
  },
  {
   "cell_type": "markdown",
   "metadata": {
    "slideshow": {
     "slide_type": "slide"
    }
   },
   "source": [
    "# IDE\n",
    "\n",
    "- Julia shell\n",
    "- Command line : `julia my_program.jl`\n",
    "- Julia notebooks (Jupyter)\n",
    "- No dedicated IDE but plugins for existing tools.\n",
    "- IntellJ, Eclipse, PyCharm\n",
    "- [VS Code](https://github.com/JuliaEditorSupport/julia-vscode)\n",
    "- Atom and [Juno](http://junolab.org/)\n",
    "- [Sublime Text 3](https://github.com/quinnj/Sublime-IJulia)\n",
    "\n",
    "I personally use Jupyter for development but Atom seems to be the most used environment."
   ]
  },
  {
   "cell_type": "markdown",
   "metadata": {
    "slideshow": {
     "slide_type": "slide"
    }
   },
   "source": [
    "# Packages\n",
    "\n",
    "- Use <code>]</code> to switch to package manager.\n",
    "\n",
    "```\n",
    "pkg> add IJulia\n",
    "```\n",
    "\n",
    "will install the package. Type `help` to display all available commands.\n",
    "\n",
    "Use \"backspace\" to go back to the `julia` shell.\n",
    "\n",
    "https://pkg.julialang.org\n",
    "\n",
    "The package is installed in directory `~/.julia/`\n",
    "\n",
    "To import the package, type:\n",
    "```julia\n",
    "using IJulia\n",
    "```"
   ]
  },
  {
   "cell_type": "markdown",
   "metadata": {
    "slideshow": {
     "slide_type": "slide"
    }
   },
   "source": [
    "# Jupyter notebook\n",
    "\n",
    "The Jupyter Notebook is an open-source web application that allows you to create and share documents that contain live code, equations, visualizations and narrative text. Uses include: data cleaning and transformation, numerical simulation, statistical modeling, data visualization, machine learning, and much more.\n",
    "\n",
    "type:\n",
    "```julia\n",
    "using IJulia\n",
    "notebook()  # use notebook(detached=true) \n",
    "```\n",
    "\n",
    "To convert a notebook file `.ipynb` in julia program `.jl`: \n",
    "* In the top menu `File->Download as`\n",
    "* Command line : ```ipython nbconvert --to script my_notebook.ipynb```.\n"
   ]
  }
 ],
 "metadata": {
  "celltoolbar": "Slideshow",
  "kernelspec": {
   "display_name": "Julia 0.7.0",
   "language": "julia",
   "name": "julia-0.7"
  },
  "language_info": {
   "file_extension": ".jl",
   "mimetype": "application/julia",
   "name": "julia",
   "version": "0.7.0"
  }
 },
 "nbformat": 4,
 "nbformat_minor": 2
}
