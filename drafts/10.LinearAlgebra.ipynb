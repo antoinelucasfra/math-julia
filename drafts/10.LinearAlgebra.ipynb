{
 "cells": [
  {
   "cell_type": "markdown",
   "metadata": {},
   "source": [
    "# Basic Linear Algebra"
   ]
  },
  {
   "cell_type": "code",
   "execution_count": 1,
   "metadata": {},
   "outputs": [
    {
     "data": {
      "text/plain": [
       "3×3 Array{Int64,2}:\n",
       " 4  3  3\n",
       " 1  3  2\n",
       " 3  1  2"
      ]
     },
     "execution_count": 1,
     "metadata": {},
     "output_type": "execute_result"
    }
   ],
   "source": [
    "A = rand(1:4,3,3)"
   ]
  },
  {
   "cell_type": "code",
   "execution_count": 2,
   "metadata": {},
   "outputs": [
    {
     "data": {
      "text/plain": [
       "3×6 Array{Int64,2}:\n",
       " 4  3  3  4  3  3\n",
       " 1  3  2  1  3  2\n",
       " 3  1  2  3  1  2"
      ]
     },
     "execution_count": 2,
     "metadata": {},
     "output_type": "execute_result"
    }
   ],
   "source": [
    "B = A # B and A are references to the same memory\n",
    "C = copy(A)\n",
    "[B C]"
   ]
  },
  {
   "cell_type": "code",
   "execution_count": 3,
   "metadata": {},
   "outputs": [
    {
     "data": {
      "text/plain": [
       "17"
      ]
     },
     "execution_count": 3,
     "metadata": {},
     "output_type": "execute_result"
    }
   ],
   "source": [
    "A[1] = 17"
   ]
  },
  {
   "cell_type": "code",
   "execution_count": 4,
   "metadata": {},
   "outputs": [
    {
     "data": {
      "text/plain": [
       "3×3 Array{Int64,2}:\n",
       " 17  3  3\n",
       "  1  3  2\n",
       "  3  1  2"
      ]
     },
     "execution_count": 4,
     "metadata": {},
     "output_type": "execute_result"
    }
   ],
   "source": [
    "A"
   ]
  },
  {
   "cell_type": "code",
   "execution_count": 6,
   "metadata": {},
   "outputs": [
    {
     "data": {
      "text/plain": [
       "3×3 Array{Int64,2}:\n",
       " 3  2  3\n",
       " 2  1  2\n",
       " 4  2  4"
      ]
     },
     "execution_count": 6,
     "metadata": {},
     "output_type": "execute_result"
    }
   ],
   "source": [
    "B = rand(1:4,3,3)"
   ]
  },
  {
   "cell_type": "code",
   "execution_count": 9,
   "metadata": {},
   "outputs": [
    {
     "data": {
      "text/plain": [
       "3×3 Array{Int64,2}:\n",
       " 65  19  21\n",
       " 41  11  12\n",
       " 65  19  21"
      ]
     },
     "execution_count": 9,
     "metadata": {},
     "output_type": "execute_result"
    }
   ],
   "source": [
    " B' * A"
   ]
  },
  {
   "cell_type": "code",
   "execution_count": 239,
   "metadata": {},
   "outputs": [
    {
     "data": {
      "text/plain": [
       "3×6 Array{Int64,2}:\n",
       " 17  3  1  4  3  1\n",
       "  1  4  4  1  4  4\n",
       "  2  1  4  2  1  4"
      ]
     },
     "execution_count": 239,
     "metadata": {},
     "output_type": "execute_result"
    }
   ],
   "source": [
    "[B C]"
   ]
  },
  {
   "cell_type": "code",
   "execution_count": 240,
   "metadata": {},
   "outputs": [
    {
     "data": {
      "text/plain": [
       "3-element Array{Float64,1}:\n",
       " 1.0\n",
       " 1.0\n",
       " 1.0"
      ]
     },
     "execution_count": 240,
     "metadata": {},
     "output_type": "execute_result"
    }
   ],
   "source": [
    "x = ones(3)"
   ]
  },
  {
   "cell_type": "code",
   "execution_count": 241,
   "metadata": {},
   "outputs": [
    {
     "data": {
      "text/plain": [
       "3-element Array{Float64,1}:\n",
       " 21.0\n",
       "  9.0\n",
       "  7.0"
      ]
     },
     "execution_count": 241,
     "metadata": {},
     "output_type": "execute_result"
    }
   ],
   "source": [
    "b = A * x"
   ]
  },
  {
   "cell_type": "code",
   "execution_count": 242,
   "metadata": {},
   "outputs": [
    {
     "data": {
      "text/plain": [
       "3×3 Array{Int64,2}:\n",
       " 34  4  3\n",
       "  4  8  5\n",
       "  3  5  8"
      ]
     },
     "execution_count": 242,
     "metadata": {},
     "output_type": "execute_result"
    }
   ],
   "source": [
    "Asym = A + A'"
   ]
  },
  {
   "cell_type": "code",
   "execution_count": 243,
   "metadata": {},
   "outputs": [
    {
     "data": {
      "text/plain": [
       "3×3 Array{Int64,2}:\n",
       " 34  4  3\n",
       "  4  8  5\n",
       "  3  5  8"
      ]
     },
     "execution_count": 243,
     "metadata": {},
     "output_type": "execute_result"
    }
   ],
   "source": [
    "Asym"
   ]
  },
  {
   "cell_type": "code",
   "execution_count": 244,
   "metadata": {},
   "outputs": [
    {
     "name": "stderr",
     "output_type": "stream",
     "text": [
      "┌ Warning: The postfix .' syntax is deprecated. For vector v in v.', use transpose(v) instead. For matrix A in A.', use copy(transpose(A)) instead, unless A.' appears as an argument of *, / or \\. In those cases, use transpose(A) instead. \n",
      "└ @ nothing none:0\n"
     ]
    },
    {
     "data": {
      "text/plain": [
       "3×3 LinearAlgebra.Transpose{Int64,Array{Int64,2}}:\n",
       " 17  1  2\n",
       "  3  4  1\n",
       "  1  4  4"
      ]
     },
     "execution_count": 244,
     "metadata": {},
     "output_type": "execute_result"
    }
   ],
   "source": [
    "A.'"
   ]
  },
  {
   "cell_type": "code",
   "execution_count": 245,
   "metadata": {},
   "outputs": [
    {
     "data": {
      "text/plain": [
       "3×3 LinearAlgebra.Adjoint{Int64,Array{Int64,2}}:\n",
       " 17  1  2\n",
       "  3  4  1\n",
       "  1  4  4"
      ]
     },
     "execution_count": 245,
     "metadata": {},
     "output_type": "execute_result"
    }
   ],
   "source": [
    "A'"
   ]
  },
  {
   "cell_type": "code",
   "execution_count": 246,
   "metadata": {},
   "outputs": [
    {
     "data": {
      "text/plain": [
       "3×3 Array{Int64,2}:\n",
       " 294  57  29\n",
       "  57  26  23\n",
       "  29  23  33"
      ]
     },
     "execution_count": 246,
     "metadata": {},
     "output_type": "execute_result"
    }
   ],
   "source": [
    "Apd = A'A"
   ]
  },
  {
   "cell_type": "code",
   "execution_count": 247,
   "metadata": {},
   "outputs": [
    {
     "data": {
      "text/plain": [
       "3-element Array{Float64,1}:\n",
       " 1.0               \n",
       " 0.9999999999999999\n",
       " 1.0               "
      ]
     },
     "execution_count": 247,
     "metadata": {},
     "output_type": "execute_result"
    }
   ],
   "source": [
    "A\\b"
   ]
  },
  {
   "cell_type": "code",
   "execution_count": 248,
   "metadata": {},
   "outputs": [
    {
     "data": {
      "text/plain": [
       "3×3 Array{Float64,2}:\n",
       " -0.228849  -0.941061   0.254888\n",
       " -0.530254  -1.06245   -0.586145\n",
       "  0.135146   1.36124    1.03498 "
      ]
     },
     "execution_count": 248,
     "metadata": {},
     "output_type": "execute_result"
    }
   ],
   "source": [
    "A = randn(3,3)"
   ]
  },
  {
   "cell_type": "code",
   "execution_count": 1,
   "metadata": {},
   "outputs": [
    {
     "ename": "LoadError",
     "evalue": "UndefVarError: A not defined",
     "output_type": "error",
     "traceback": [
      "UndefVarError: A not defined",
      "",
      "Stacktrace:",
      " [1] top-level scope at none:0"
     ]
    }
   ],
   "source": [
    "[A[:,1] A[:,1]] \\b"
   ]
  },
  {
   "cell_type": "code",
   "execution_count": 2,
   "metadata": {},
   "outputs": [
    {
     "data": {
      "text/plain": [
       "1.3229899889346597"
      ]
     },
     "metadata": {},
     "output_type": "display_data"
    },
    {
     "data": {
      "text/plain": [
       "5.551115123125783e-17"
      ]
     },
     "metadata": {},
     "output_type": "display_data"
    },
    {
     "ename": "LoadError",
     "evalue": "MethodError: no method matching lu(::Array{Float64,2}, ::Type{Val{false}})\nClosest candidates are:\n  lu(::Union{AbstractArray{T<:AbstractFloat,2}, AbstractArray{Complex{T<:AbstractFloat},2}}) where T<:AbstractFloat at /Users/osx/buildbot/slave/package_osx64/build/usr/share/julia/stdlib/v0.7/LinearAlgebra/src/lu.jl:142\n  lu(::Union{AbstractArray{T<:AbstractFloat,2}, AbstractArray{Complex{T<:AbstractFloat},2}}, !Matched::Union{Val{false}, Val{true}}; check) where T<:AbstractFloat at /Users/osx/buildbot/slave/package_osx64/build/usr/share/julia/stdlib/v0.7/LinearAlgebra/src/lu.jl:142\n  lu(::AbstractArray{T,2}; check) where T at /Users/osx/buildbot/slave/package_osx64/build/usr/share/julia/stdlib/v0.7/LinearAlgebra/src/lu.jl:242\n  ...",
     "output_type": "error",
     "traceback": [
      "MethodError: no method matching lu(::Array{Float64,2}, ::Type{Val{false}})\nClosest candidates are:\n  lu(::Union{AbstractArray{T<:AbstractFloat,2}, AbstractArray{Complex{T<:AbstractFloat},2}}) where T<:AbstractFloat at /Users/osx/buildbot/slave/package_osx64/build/usr/share/julia/stdlib/v0.7/LinearAlgebra/src/lu.jl:142\n  lu(::Union{AbstractArray{T<:AbstractFloat,2}, AbstractArray{Complex{T<:AbstractFloat},2}}, !Matched::Union{Val{false}, Val{true}}; check) where T<:AbstractFloat at /Users/osx/buildbot/slave/package_osx64/build/usr/share/julia/stdlib/v0.7/LinearAlgebra/src/lu.jl:142\n  lu(::AbstractArray{T,2}; check) where T at /Users/osx/buildbot/slave/package_osx64/build/usr/share/julia/stdlib/v0.7/LinearAlgebra/src/lu.jl:242\n  ...",
      "",
      "Stacktrace:",
      " [1] top-level scope at none:0"
     ]
    },
    {
     "name": "stderr",
     "output_type": "stream",
     "text": [
      "WARNING: Base.lu is deprecated: it has been moved to the standard library package `LinearAlgebra`.\n",
      "Add `using LinearAlgebra` to your imports.\n",
      "  likely near /Users/navaro/.julia/packages/IJulia/iMVN2/src/kernel.jl:38\n"
     ]
    }
   ],
   "source": [
    "# Factorization\n",
    "\n",
    "using LinearAlgebra\n",
    "\n",
    "A = rand(3,3)\n",
    "\n",
    "l,u,p = lu(A)\n",
    "\n",
    "display(norm(l*u-A))\n",
    "display(norm(l*u-A[p,:])) # use the pivoting vector\n",
    "\n",
    "l,u,p = LinearAlgebra.lu(A,Val{false})\n",
    "norm(l*u - A)\n",
    "\n",
    "Alu = lu(A,pivot)\n",
    "\n",
    "Alu.P\n",
    "\n",
    "Alu[:L]\n",
    "\n",
    "Alu[:U]\n",
    "\n",
    "x = ones(3)\n",
    "b = A*x\n",
    "\n",
    "Alu[:U]\\(Alu[:L]\\(Alu[:P]b))\n",
    "\n",
    "Alu\\b\n",
    "\n",
    "det(A)\n",
    "\n",
    "det(Alu)\n",
    "\n",
    "Asym = A + A'\n",
    "\n",
    "AsymEig = eigfact(Asym)\n",
    "\n",
    "AsymEig[:values]\n",
    "\n",
    "inv(AsymEig)*Asym\n",
    "\n",
    "eig(Asym)\n",
    "\n",
    "Asvd = svdfact(A[:,1:2])\n",
    "\n",
    "Asvd\\b\n",
    "\n",
    "A\n",
    "\n",
    "Diagonal(diag(A))\n",
    "\n",
    "Diagonal(A)\n",
    "\n",
    "for i = 1:10\n",
    "    println(i)\n",
    "end\n",
    "\n",
    "Nx , Ny = 64, 128\n",
    "\n",
    "xmin, xmax = -pi, pi\n",
    "dx = (xmax-xmin)/Nx \n",
    "x = xmin:dx:xmax-dx\n",
    "xper = xmin:dx:xmax\n",
    "   \n",
    "ymin, ymax =-pi, pi\n",
    "dy = (ymax-ymin)/Ny\n",
    "y    = ymin:dy:ymax-dy\n",
    "yper = ymin:dy:ymax\n",
    "   \n",
    "# wave number\n",
    "kx = 2*pi/(xmax-xmin)*[0:Nx/2-1;Nx/2-Nx:Nx-1-Nx]\n",
    "ky = 2*pi/(ymax-ymin)*[0:Ny/2-1;Ny/2-Ny:Ny-1-Ny];\n",
    "   \n",
    "# initial condition \n",
    "f0=zeros(Nx,Ny)\n",
    "for i=1:Nx\n",
    "   xx=xmin+(i-1)*dx\n",
    "   for j=1:Ny\n",
    "      yy=ymin+(j-1)*dy\n",
    "      f0[i,j]=exp(-(xx-1)*(xx-1)/0.1)*exp(-(yy-1)*(yy-1)/0.1)\n",
    "   end\n",
    "end\n",
    "\n",
    "M = [10*i+j for i = 1:4, j = 1:5]\n",
    "\n",
    "f( x ) = x + 1\n",
    "\n",
    "mapslices(M,[1,2])\n",
    "\n",
    "M"
   ]
  },
  {
   "cell_type": "code",
   "execution_count": 8,
   "metadata": {},
   "outputs": [
    {
     "data": {
      "text/plain": [
       "3×4 Array{Int64,2}:\n",
       "  3  0  -4  -4\n",
       " -1  4  -3   3\n",
       "  4  4  -1  -5"
      ]
     },
     "execution_count": 8,
     "metadata": {},
     "output_type": "execute_result"
    }
   ],
   "source": [
    "using LinearAlgebra\n",
    "A = rand(-5:5,3,4)\n",
    "Q = rand(-5:5,3,4)"
   ]
  },
  {
   "cell_type": "code",
   "execution_count": 9,
   "metadata": {},
   "outputs": [
    {
     "data": {
      "text/plain": [
       "4×4 Array{Int64,2}:\n",
       "  -8   11    9   3\n",
       "  20   36   32  -8\n",
       " -11  -19  -12  -4\n",
       "  19   -5   -4  -6"
      ]
     },
     "execution_count": 9,
     "metadata": {},
     "output_type": "execute_result"
    }
   ],
   "source": [
    "Q' * A"
   ]
  },
  {
   "cell_type": "code",
   "execution_count": 10,
   "metadata": {},
   "outputs": [
    {
     "data": {
      "text/plain": [
       "53"
      ]
     },
     "execution_count": 10,
     "metadata": {},
     "output_type": "execute_result"
    }
   ],
   "source": [
    "Q' ⋅ A"
   ]
  },
  {
   "cell_type": "code",
   "execution_count": 17,
   "metadata": {},
   "outputs": [
    {
     "data": {
      "text/plain": [
       "6"
      ]
     },
     "execution_count": 17,
     "metadata": {},
     "output_type": "execute_result"
    }
   ],
   "source": [
    "dot(Q', A)"
   ]
  },
  {
   "cell_type": "code",
   "execution_count": 21,
   "metadata": {},
   "outputs": [
    {
     "ename": "DimensionMismatch",
     "evalue": "DimensionMismatch(\"Cannot multiply two vectors\")",
     "output_type": "error",
     "traceback": [
      "DimensionMismatch(\"Cannot multiply two vectors\")",
      "",
      "Stacktrace:",
      " [1] *(::Array{Array{Int64,1},1}, ::Array{Array{Int64,1},1}) at /Users/osx/buildbot/slave/package_osx64/build/usr/share/julia/stdlib/v0.7/LinearAlgebra/src/deprecated.jl:566",
      " [2] top-level scope at In[21]:1"
     ]
    }
   ],
   "source": [
    "Q * A"
   ]
  },
  {
   "cell_type": "code",
   "execution_count": 20,
   "metadata": {},
   "outputs": [
    {
     "ename": "MethodError",
     "evalue": "MethodError: no method matching mul!(::Adjoint{Adjoint{Int64,Array{Int64,1}},Array{Array{Int64,1},1}}, ::Array{Array{Int64,1},1})\nClosest candidates are:\n  mul!(::AbstractArray, ::AbstractArray, !Matched::Number) at /Users/osx/buildbot/slave/package_osx64/build/usr/share/julia/stdlib/v0.7/LinearAlgebra/src/generic.jl:43\n  mul!(::AbstractArray{T,2} where T, ::Union{AbstractArray{T,1}, AbstractArray{T,2}} where T, !Matched::Transpose{#s565,#s564} where #s564<:(Union{AbstractArray{T,1}, AbstractArray{T,2}} where T) where #s565) at /Users/osx/buildbot/slave/package_osx64/build/usr/share/julia/stdlib/v0.7/LinearAlgebra/src/matmul.jl:251\n  mul!(::AbstractArray{T,2} where T, ::Union{AbstractArray{T,1}, AbstractArray{T,2}} where T, !Matched::Adjoint{#s565,#s564} where #s564<:(Union{AbstractArray{T,1}, AbstractArray{T,2}} where T) where #s565) at /Users/osx/buildbot/slave/package_osx64/build/usr/share/julia/stdlib/v0.7/LinearAlgebra/src/matmul.jl:306\n  ...",
     "output_type": "error",
     "traceback": [
      "MethodError: no method matching mul!(::Adjoint{Adjoint{Int64,Array{Int64,1}},Array{Array{Int64,1},1}}, ::Array{Array{Int64,1},1})\nClosest candidates are:\n  mul!(::AbstractArray, ::AbstractArray, !Matched::Number) at /Users/osx/buildbot/slave/package_osx64/build/usr/share/julia/stdlib/v0.7/LinearAlgebra/src/generic.jl:43\n  mul!(::AbstractArray{T,2} where T, ::Union{AbstractArray{T,1}, AbstractArray{T,2}} where T, !Matched::Transpose{#s565,#s564} where #s564<:(Union{AbstractArray{T,1}, AbstractArray{T,2}} where T) where #s565) at /Users/osx/buildbot/slave/package_osx64/build/usr/share/julia/stdlib/v0.7/LinearAlgebra/src/matmul.jl:251\n  mul!(::AbstractArray{T,2} where T, ::Union{AbstractArray{T,1}, AbstractArray{T,2}} where T, !Matched::Adjoint{#s565,#s564} where #s564<:(Union{AbstractArray{T,1}, AbstractArray{T,2}} where T) where #s565) at /Users/osx/buildbot/slave/package_osx64/build/usr/share/julia/stdlib/v0.7/LinearAlgebra/src/matmul.jl:306\n  ...",
      "",
      "Stacktrace:",
      " [1] top-level scope at In[20]:1"
     ]
    }
   ],
   "source": []
  },
  {
   "cell_type": "code",
   "execution_count": null,
   "metadata": {},
   "outputs": [],
   "source": []
  }
 ],
 "metadata": {
  "celltoolbar": "Slideshow",
  "kernelspec": {
   "display_name": "Julia 0.7.0",
   "language": "julia",
   "name": "julia-0.7"
  },
  "language_info": {
   "file_extension": ".jl",
   "mimetype": "application/julia",
   "name": "julia",
   "version": "0.7.0"
  }
 },
 "nbformat": 4,
 "nbformat_minor": 2
}
