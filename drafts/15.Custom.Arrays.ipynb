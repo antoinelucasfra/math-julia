{
 "cells": [
  {
   "cell_type": "markdown",
   "metadata": {
    "slideshow": {
     "slide_type": "slide"
    }
   },
   "source": [
    "*An intro to high performance custom arrays by Matt Bauman*\n",
    "\n",
    "https://youtu.be/jS9eouMJf_Y"
   ]
  },
  {
   "cell_type": "code",
   "execution_count": 1,
   "metadata": {},
   "outputs": [],
   "source": [
    "using BenchmarkTools"
   ]
  },
  {
   "cell_type": "code",
   "execution_count": 2,
   "metadata": {},
   "outputs": [
    {
     "data": {
      "text/plain": [
       "1000×1000 Array{Float64,2}:\n",
       " 0.213189   0.584026    0.72996    …  0.200082   0.493674    0.648122 \n",
       " 0.106868   0.773863    0.0840145     0.154692   0.647825    0.379732 \n",
       " 0.0872056  0.441514    0.410738      0.602895   0.958855    0.171831 \n",
       " 0.286881   0.154135    0.984402      0.0451315  0.447923    0.244536 \n",
       " 0.228076   0.250626    0.478572      0.706206   0.602721    0.9089   \n",
       " 0.11067    0.275993    0.939109   …  0.652209   0.425357    0.375174 \n",
       " 0.465856   0.550967    0.814546      0.530511   0.28204     0.137086 \n",
       " 0.900581   0.449723    0.613809      0.513894   0.593943    0.426416 \n",
       " 0.499612   0.68982     0.0160085     0.829173   0.397067    0.0388353\n",
       " 0.594068   0.320573    0.779716      0.361506   0.957168    0.323776 \n",
       " 0.179284   0.11089     0.0120636  …  0.0648209  0.554395    0.109612 \n",
       " 0.394442   0.190889    0.788738      0.798599   0.0825402   0.864797 \n",
       " 0.154888   0.289707    0.0533554     0.329779   0.390892    0.187324 \n",
       " ⋮                                 ⋱                                  \n",
       " 0.375861   0.569671    0.624199      0.813493   0.0248515   0.624914 \n",
       " 0.11993    0.525192    0.408007      0.108098   0.00738265  0.782692 \n",
       " 0.343486   0.965733    0.417357   …  0.817334   0.662575    0.174736 \n",
       " 0.0877402  0.00692594  0.438576      0.937057   0.0767685   0.94939  \n",
       " 0.474138   0.525142    0.689034      0.730395   0.365138    0.54534  \n",
       " 0.887278   0.252211    0.424574      0.282779   0.158106    0.585658 \n",
       " 0.632083   0.426389    0.184221      0.0964895  0.415722    0.963948 \n",
       " 0.906763   0.936916    0.119936   …  0.13453    0.175589    0.535155 \n",
       " 0.0679173  0.026339    0.722406      0.204169   0.301843    0.36264  \n",
       " 0.252357   0.0882049   0.383711      0.54629    0.635078    0.145637 \n",
       " 0.50835    0.365821    0.950472      0.559337   0.407166    0.854557 \n",
       " 0.841664   0.805028    0.507364      0.719023   0.170462    0.607594 "
      ]
     },
     "execution_count": 2,
     "metadata": {},
     "output_type": "execute_result"
    }
   ],
   "source": [
    "A = rand(1000,1000)"
   ]
  },
  {
   "cell_type": "code",
   "execution_count": 5,
   "metadata": {},
   "outputs": [
    {
     "name": "stdout",
     "output_type": "stream",
     "text": [
      "  2.474 ms (3 allocations: 7.63 MiB)\n"
     ]
    },
    {
     "data": {
      "text/plain": [
       "500108.9329179399"
      ]
     },
     "execution_count": 5,
     "metadata": {},
     "output_type": "execute_result"
    }
   ],
   "source": [
    "function weighted_sum( A, weights=ones(size(A)))\n",
    "    r = zero(A[1])\n",
    "    for i in eachindex(A, weights)\n",
    "        r += A[i]*weights[i]\n",
    "    end\n",
    "    return r\n",
    "end\n",
    "@btime weighted_sum(A)"
   ]
  },
  {
   "cell_type": "code",
   "execution_count": 6,
   "metadata": {},
   "outputs": [
    {
     "name": "stdout",
     "output_type": "stream",
     "text": [
      "  258.922 μs (1 allocation: 16 bytes)\n"
     ]
    },
    {
     "data": {
      "text/plain": [
       "500108.9329179303"
      ]
     },
     "execution_count": 6,
     "metadata": {},
     "output_type": "execute_result"
    }
   ],
   "source": [
    "@btime sum(A)"
   ]
  },
  {
   "cell_type": "code",
   "execution_count": 7,
   "metadata": {},
   "outputs": [
    {
     "data": {
      "text/plain": [
       "Main.V1"
      ]
     },
     "execution_count": 7,
     "metadata": {},
     "output_type": "execute_result"
    }
   ],
   "source": [
    "module V1\n",
    "struct OnesMatrix <: AbstractArray{Int, 2}\n",
    "    m::Int\n",
    "    n::Int\n",
    "end\n",
    "Base.size(o::OnesMatrix) = (o.m, o.n)\n",
    "Base.getindex(o::OnesMatrix, i::Int, j::Int) = 1\n",
    "end "
   ]
  },
  {
   "cell_type": "code",
   "execution_count": 8,
   "metadata": {},
   "outputs": [
    {
     "data": {
      "text/plain": [
       "1000×1000 Main.V1.OnesMatrix:\n",
       " 1  1  1  1  1  1  1  1  1  1  1  1  1  …  1  1  1  1  1  1  1  1  1  1  1  1\n",
       " 1  1  1  1  1  1  1  1  1  1  1  1  1     1  1  1  1  1  1  1  1  1  1  1  1\n",
       " 1  1  1  1  1  1  1  1  1  1  1  1  1     1  1  1  1  1  1  1  1  1  1  1  1\n",
       " 1  1  1  1  1  1  1  1  1  1  1  1  1     1  1  1  1  1  1  1  1  1  1  1  1\n",
       " 1  1  1  1  1  1  1  1  1  1  1  1  1     1  1  1  1  1  1  1  1  1  1  1  1\n",
       " 1  1  1  1  1  1  1  1  1  1  1  1  1  …  1  1  1  1  1  1  1  1  1  1  1  1\n",
       " 1  1  1  1  1  1  1  1  1  1  1  1  1     1  1  1  1  1  1  1  1  1  1  1  1\n",
       " 1  1  1  1  1  1  1  1  1  1  1  1  1     1  1  1  1  1  1  1  1  1  1  1  1\n",
       " 1  1  1  1  1  1  1  1  1  1  1  1  1     1  1  1  1  1  1  1  1  1  1  1  1\n",
       " 1  1  1  1  1  1  1  1  1  1  1  1  1     1  1  1  1  1  1  1  1  1  1  1  1\n",
       " 1  1  1  1  1  1  1  1  1  1  1  1  1  …  1  1  1  1  1  1  1  1  1  1  1  1\n",
       " 1  1  1  1  1  1  1  1  1  1  1  1  1     1  1  1  1  1  1  1  1  1  1  1  1\n",
       " 1  1  1  1  1  1  1  1  1  1  1  1  1     1  1  1  1  1  1  1  1  1  1  1  1\n",
       " ⋮              ⋮              ⋮        ⋱        ⋮              ⋮            \n",
       " 1  1  1  1  1  1  1  1  1  1  1  1  1     1  1  1  1  1  1  1  1  1  1  1  1\n",
       " 1  1  1  1  1  1  1  1  1  1  1  1  1     1  1  1  1  1  1  1  1  1  1  1  1\n",
       " 1  1  1  1  1  1  1  1  1  1  1  1  1  …  1  1  1  1  1  1  1  1  1  1  1  1\n",
       " 1  1  1  1  1  1  1  1  1  1  1  1  1     1  1  1  1  1  1  1  1  1  1  1  1\n",
       " 1  1  1  1  1  1  1  1  1  1  1  1  1     1  1  1  1  1  1  1  1  1  1  1  1\n",
       " 1  1  1  1  1  1  1  1  1  1  1  1  1     1  1  1  1  1  1  1  1  1  1  1  1\n",
       " 1  1  1  1  1  1  1  1  1  1  1  1  1     1  1  1  1  1  1  1  1  1  1  1  1\n",
       " 1  1  1  1  1  1  1  1  1  1  1  1  1  …  1  1  1  1  1  1  1  1  1  1  1  1\n",
       " 1  1  1  1  1  1  1  1  1  1  1  1  1     1  1  1  1  1  1  1  1  1  1  1  1\n",
       " 1  1  1  1  1  1  1  1  1  1  1  1  1     1  1  1  1  1  1  1  1  1  1  1  1\n",
       " 1  1  1  1  1  1  1  1  1  1  1  1  1     1  1  1  1  1  1  1  1  1  1  1  1\n",
       " 1  1  1  1  1  1  1  1  1  1  1  1  1     1  1  1  1  1  1  1  1  1  1  1  1"
      ]
     },
     "execution_count": 8,
     "metadata": {},
     "output_type": "execute_result"
    }
   ],
   "source": [
    "x = V1.OnesMatrix(1000,1000)"
   ]
  },
  {
   "cell_type": "code",
   "execution_count": 10,
   "metadata": {},
   "outputs": [
    {
     "name": "stdout",
     "output_type": "stream",
     "text": [
      "  1.733 ms (1 allocation: 16 bytes)\n"
     ]
    },
    {
     "data": {
      "text/plain": [
       "500108.9329179399"
      ]
     },
     "execution_count": 10,
     "metadata": {},
     "output_type": "execute_result"
    }
   ],
   "source": [
    "function weighted_sum( A, weights=V1.OnesMatrix(size(A)...))\n",
    "    r = zero(A[1])\n",
    "    for i in eachindex(A, weights)\n",
    "        r += A[i]*weights[i]\n",
    "    end\n",
    "    return r\n",
    "end\n",
    "@btime weighted_sum(A)"
   ]
  },
  {
   "cell_type": "markdown",
   "metadata": {},
   "source": [
    "Add bounds checking"
   ]
  },
  {
   "cell_type": "code",
   "execution_count": 11,
   "metadata": {},
   "outputs": [
    {
     "data": {
      "text/plain": [
       "Main.V2"
      ]
     },
     "execution_count": 11,
     "metadata": {},
     "output_type": "execute_result"
    }
   ],
   "source": [
    "module V2\n",
    "struct OnesMatrix <: AbstractArray{Int, 2}\n",
    "    m::Int\n",
    "    n::Int\n",
    "end\n",
    "Base.size(o::OnesMatrix) = (o.m, o.n)\n",
    "function Base.getindex(o::OnesMatrix, i::Int, j::Int)\n",
    "    checkbounds(o, i, j)\n",
    "    1\n",
    "end\n",
    "end "
   ]
  },
  {
   "cell_type": "code",
   "execution_count": 12,
   "metadata": {},
   "outputs": [
    {
     "name": "stdout",
     "output_type": "stream",
     "text": [
      "  1.952 ms (0 allocations: 0 bytes)\n"
     ]
    },
    {
     "data": {
      "text/plain": [
       "500108.9329179399"
      ]
     },
     "execution_count": 12,
     "metadata": {},
     "output_type": "execute_result"
    }
   ],
   "source": [
    "function weighted_sum( A, weights=V2.OnesMatrix(size(A)...))\n",
    "    r = zero(A[1])\n",
    "    @inbounds for i in eachindex(A, weights)\n",
    "        r += A[i]*weights[i]\n",
    "    end\n",
    "    return r\n",
    "end\n",
    "@btime weighted_sum($A)"
   ]
  },
  {
   "cell_type": "code",
   "execution_count": 13,
   "metadata": {},
   "outputs": [
    {
     "data": {
      "text/plain": [
       "Main.V3"
      ]
     },
     "execution_count": 13,
     "metadata": {},
     "output_type": "execute_result"
    }
   ],
   "source": [
    "module V3\n",
    "struct OnesMatrix <: AbstractArray{Int, 2}\n",
    "    m::Int\n",
    "    n::Int\n",
    "end\n",
    "Base.size(o::OnesMatrix) = (o.m, o.n)\n",
    "@inline function Base.getindex(o::OnesMatrix, i::Int, j::Int)\n",
    "    @boundscheck begin\n",
    "        checkbounds(o, i, j)\n",
    "    end\n",
    "    1\n",
    "end\n",
    "end "
   ]
  },
  {
   "cell_type": "code",
   "execution_count": 54,
   "metadata": {},
   "outputs": [
    {
     "name": "stdout",
     "output_type": "stream",
     "text": [
      "  1.679 ms (0 allocations: 0 bytes)\n"
     ]
    },
    {
     "data": {
      "text/plain": [
       "500215.87431490654"
      ]
     },
     "execution_count": 54,
     "metadata": {},
     "output_type": "execute_result"
    }
   ],
   "source": [
    "function weighted_sum( A, weights=V3.OnesMatrix(size(A)...))\n",
    "    r = zero(A[1])\n",
    "    @inbounds for i in eachindex(A, weights)\n",
    "        r += A[i]*weights[i]\n",
    "    end\n",
    "    return r\n",
    "end\n",
    "@btime weighted_sum(A)"
   ]
  },
  {
   "cell_type": "code",
   "execution_count": 14,
   "metadata": {},
   "outputs": [
    {
     "data": {
      "text/plain": [
       "Main.V4"
      ]
     },
     "execution_count": 14,
     "metadata": {},
     "output_type": "execute_result"
    }
   ],
   "source": [
    "module V4\n",
    "struct OnesMatrix <: AbstractArray{Int, 2}\n",
    "    m::Int\n",
    "    n::Int\n",
    "end\n",
    "Base.size(o::OnesMatrix) = (o.m, o.n)\n",
    "Base.IndexStyle(::Type{OnesMatrix}) = IndexLinear()\n",
    "@inline function Base.getindex(o::OnesMatrix, i::Int)\n",
    "    @boundscheck begin\n",
    "        checkbounds(o, i)\n",
    "    end\n",
    "    1\n",
    "end\n",
    "end "
   ]
  },
  {
   "cell_type": "code",
   "execution_count": 15,
   "metadata": {},
   "outputs": [
    {
     "name": "stdout",
     "output_type": "stream",
     "text": [
      "  776.087 μs (1 allocation: 16 bytes)\n"
     ]
    },
    {
     "data": {
      "text/plain": [
       "500108.9329179399"
      ]
     },
     "execution_count": 15,
     "metadata": {},
     "output_type": "execute_result"
    }
   ],
   "source": [
    "function weighted_sum( A, weights=V4.OnesMatrix(size(A)...))\n",
    "    r = zero(A[1])\n",
    "    for i in eachindex(A, weights)\n",
    "        r += A[i]*weights[i]\n",
    "    end\n",
    "    return r\n",
    "end\n",
    "@btime weighted_sum(A)"
   ]
  }
 ],
 "metadata": {
  "celltoolbar": "Slideshow",
  "kernelspec": {
   "display_name": "Julia 0.7.0",
   "language": "julia",
   "name": "julia-0.7"
  },
  "language_info": {
   "file_extension": ".jl",
   "mimetype": "application/julia",
   "name": "julia",
   "version": "0.7.0"
  }
 },
 "nbformat": 4,
 "nbformat_minor": 2
}
