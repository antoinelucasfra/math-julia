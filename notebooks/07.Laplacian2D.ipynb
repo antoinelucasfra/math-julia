{
 "cells": [
  {
   "cell_type": "markdown",
   "source": [
    "-*- coding: utf-8 -*-"
   ],
   "metadata": {}
  },
  {
   "outputs": [],
   "cell_type": "code",
   "source": [
    "using Plots\n",
    "using LinearAlgebra"
   ],
   "metadata": {},
   "execution_count": null
  },
  {
   "cell_type": "markdown",
   "source": [
    "+"
   ],
   "metadata": {}
  },
  {
   "outputs": [],
   "cell_type": "code",
   "source": [
    "struct Laplacian\n",
    "\n",
    "    n :: Int\n",
    "    d1 :: Vector{Float64}\n",
    "    d2 :: Vector{Float64}\n",
    "    d3 :: Vector{Float64}\n",
    "    d4 :: Vector{Float64}\n",
    "    d5 :: Vector{Float64}\n",
    "\n",
    "end"
   ],
   "metadata": {},
   "execution_count": null
  },
  {
   "cell_type": "markdown",
   "source": [
    "+"
   ],
   "metadata": {}
  },
  {
   "outputs": [],
   "cell_type": "code",
   "source": [
    "function buildsparsematrix(n)\n",
    "\n",
    "    nsq = n * n\n",
    "\n",
    "    d1 = zeros(nsq)\n",
    "    d2 = zeros(nsq)\n",
    "    d3 = zeros(nsq)\n",
    "    d4 = zeros(nsq)\n",
    "    d5 = zeros(nsq)\n",
    "\n",
    "    for k = 1:nsq\n",
    "\n",
    "       if( k == 1 )  # bottom left\n",
    "          d3[k] =  1\n",
    "       elseif( k > 1 && k < n ) # left side\n",
    "          d3[k] = 1\n",
    "       elseif( k == n ) # top left\n",
    "          d3[k] =  1\n",
    "       elseif( k > n && k <= (n-1)*n )\n",
    "          if( mod( k, n ) == 0 )\n",
    "             d1[k] =  0.0\n",
    "             d2[k] =  0.0\n",
    "             d3[k] =  1.0\t\t# top\n",
    "             d4[k] =  0.0\n",
    "             d5[k] =  0.0\n",
    "          elseif( mod( k-1, n ) == 0 )\n",
    "             d1[k] =  0.0\n",
    "             d2[k] =  0.0\n",
    "             d3[k] =  1.0\t\t# bottom\n",
    "             d4[k] =  0.0\n",
    "             d5[k] =  0.0\n",
    "          else\n",
    "             d1[k] = -1\n",
    "             d2[k] = -1\n",
    "             d3[k] =  4\t\t# interior\n",
    "             d4[k] = -1\n",
    "             d5[k] = -1\n",
    "          end\n",
    "       elseif ( k == (n-1)*n+1 )\n",
    "          d3[k] = 1\t\t# bottom right\n",
    "       elseif ( k > nsq-n+1 && k < nsq )\n",
    "          d3[k] = 1 \t\t# right side\n",
    "       elseif ( k == nsq)\n",
    "          d3[k] = 1\t\t# top right\n",
    "       end\n",
    "\n",
    "    end\n",
    "\n",
    "    Laplacian(n, d1, d2, d3, d4, d5)\n",
    "\n",
    "end"
   ],
   "metadata": {},
   "execution_count": null
  },
  {
   "cell_type": "markdown",
   "source": [
    "+"
   ],
   "metadata": {}
  },
  {
   "outputs": [],
   "cell_type": "code",
   "source": [
    "function asub!( v, L, x )\n",
    "\n",
    "    n = L.n\n",
    "    nsq = n * n\n",
    "\n",
    "    for k in eachindex(v)\n",
    "\n",
    "        v[k] = 0.0\n",
    "\n",
    "    end\n",
    "\n",
    "    k = 1\n",
    "    v[k] = L.d3[k] * x[k] + L.d4[k] * x[k+1] + L.d5[k] * x[k+n]\n",
    "\n",
    "    for k = 2:n\n",
    "        v[k] =  L.d2[k] * x[k-1] + L.d3[k] * x[k] + L.d4[k] * x[k+1] + L.d5[k] * x[k+n]\n",
    "    end\n",
    "\n",
    "\tfor k = n+1:(n-1)*n-1\n",
    "        v[k] = L.d1[k] * x[k-n] + L.d2[k] * x[k-1] + L.d3[k] * x[k] + L.d4[k] * x[k+1] + L.d5[k] * x[k+n]\n",
    "    end\n",
    "\n",
    "\tfor k = (n-1)*n:n*n-1\n",
    "        v[k] = L.d1[k] * x[k-n] + L.d2[k] * x[k-1] + L.d3[k] * x[k] + L.d4[k] * x[k+1]\n",
    "    end\n",
    "\n",
    "\tk = n*n\n",
    "    v[k] = L.d1[k] * x[k-n] + L.d2[k] * x[k-1] + L.d3[k] * x[k]\n",
    "\n",
    "end"
   ],
   "metadata": {},
   "execution_count": null
  },
  {
   "cell_type": "markdown",
   "source": [
    "+"
   ],
   "metadata": {}
  },
  {
   "outputs": [],
   "cell_type": "code",
   "source": [
    "function atsub!( v, L, x )\n",
    "\n",
    "    n = L.n\n",
    "    nsq = n * n\n",
    "\n",
    "    for k in eachindex(v)\n",
    "       v[k] = 0.0\n",
    "    end\n",
    "\n",
    "    k = 1\n",
    "    v[k] = L.d3[k]*x[k]+L.d2[k+1]*x[k+1]+L.d1[k+n]*x[k+n]\n",
    "\n",
    "    for k=2:n\n",
    "        v[k] =  L.d4[k-1]*x[k-1] + L.d3[k]*x[k] + L.d2[k+1]*x[k+1] + L.d1[k+n]*x[k+n]\n",
    "    end\n",
    "\n",
    "    for k = n+1:n*(n-1)-1\n",
    "        v[k] = L.d5[k-n]*x[k-n]+L.d4[k-1]*x[k-1] + L.d3[k]*x[k]+L.d2[k+1]*x[k+1]+L.d1[k+n]*x[k+n]\n",
    "    end\n",
    "\n",
    "    for k = n*(n-1):nsq-1\n",
    "        v[k] = L.d5[k-n]*x[k-n]+L.d4[k-1]*x[k-1] + L.d3[k]*x[k]+L.d2[k+1]*x[k+1]\n",
    "    end\n",
    "\n",
    "    k = nsq\n",
    "    v[k] = L.d5[k-n]*x[k-n]+L.d4[k-1]*x[k-1]+L.d3[k]*x[k]\n",
    "\n",
    "end"
   ],
   "metadata": {},
   "execution_count": null
  },
  {
   "cell_type": "markdown",
   "source": [
    "+"
   ],
   "metadata": {}
  },
  {
   "outputs": [],
   "cell_type": "code",
   "source": [
    "\"\"\"\n",
    "    sparsecg!( x, L, b)\n",
    "\n",
    "\n",
    "Solves the linear system L.x=b for the vector X of length n,\n",
    "given the right hand vector B, and given two functions,\n",
    "`asub!(xout, L, xin)` and `atsub!(xout, L, xin)`, which respectively\n",
    "calculate `L . x` and `Lᵗ.x` for x given as their first arguments,\n",
    "returning the result in their second arguments.\n",
    "\n",
    "These functions should take every advantage of the\n",
    "sparseness of the second matrix L. On input, `x` should be set to a\n",
    "first guess of the desire solution (all zero components is fine).\n",
    "On output, `x` the solution vector, and `rsq` is the sum of the squares of\n",
    "the components of the residual vector `L.x-b`. If this is not small, then\n",
    "the matrix is numerically singular and the solution represents a least\n",
    "squares best approximation.\n",
    "\n",
    "\"\"\"\n",
    "function sparsecg!( x, L, b)\n",
    "\n",
    "    eps = 1.e-7"
   ],
   "metadata": {},
   "execution_count": null
  },
  {
   "cell_type": "markdown",
   "source": [
    "Maximum anticipated N, and r.m.s accuracy desired"
   ],
   "metadata": {}
  },
  {
   "outputs": [],
   "cell_type": "code",
   "source": [
    "    n = L.n * L.n\n",
    "    g = zeros(n)\n",
    "    h = zeros(n)\n",
    "    xi = zeros(n)\n",
    "    xj = zeros(n)\n",
    "\n",
    "    eps2 = n*eps^2        # Criterion for sum-squared residuals\n",
    "    irst = 0                # Number of restarts attempted internally\n",
    "\n",
    "    @label restart\n",
    "    irst = irst+1\n",
    "    asub!(xi, L, x)        #evaluate the starting gradient,\n",
    "    rp   = 0\n",
    "    bsq  = 0\n",
    "\n",
    "    for j = 1:n\n",
    "        bsq=bsq+b[j]^2    #and the magnitude of the right side\n",
    "        xi[j]=xi[j]-b[j]\n",
    "        rp=rp+xi[j]^2\n",
    "    end\n",
    "\n",
    "    atsub!( g, L, xi)\n",
    "    for j=1:n\n",
    "        g[j]=-g[j]\n",
    "        h[j]=g[j]\n",
    "    end\n",
    "\n",
    "    for iter = 1:10n    #Main iteration loop.\n",
    "        asub!( xi, L, h )\n",
    "        anum = 0.\n",
    "        aden = 0.\n",
    "        for j=1:n\n",
    "            anum = anum + g[j]*h[j]\n",
    "            aden = aden + xi[j]^2\n",
    "        end\n",
    "\n",
    "        ( aden == 0 ) && @error \"very singular matrix'\"\n",
    "\n",
    "        anum = anum / aden\n",
    "        for j = 1:n\n",
    "            xi[j]=x[j]\n",
    "            x[j] =x[j]+anum*h[j]\n",
    "        end\n",
    "\n",
    "        asub!( xj, L, x )\n",
    "        rsq = 0.\n",
    "\n",
    "        for j = 1:n\n",
    "            xj[j]=xj[j] - b[j]\n",
    "            rsq = rsq+xj[j]^2\n",
    "        end\n",
    "\n",
    "        ( rsq == rp && rsq <= bsq*eps2) && return rsq #converged normal return.\n",
    "\n",
    "        if(rsq > rp)     #Not improving. do a restart.\n",
    "\n",
    "            for j=1:n\n",
    "                x[j]=xi[j]\n",
    "            end\n",
    "\n",
    "            ( irst >= 3 ) && return     rsq"
   ],
   "metadata": {},
   "execution_count": null
  },
  {
   "cell_type": "markdown",
   "source": [
    "This is a normal return    when we run into roundoff\n",
    "error before satisfaying the return above"
   ],
   "metadata": {}
  },
  {
   "outputs": [],
   "cell_type": "code",
   "source": [
    "            @goto restart\n",
    "\n",
    "        end\n",
    "\n",
    "        rp = rsq\n",
    "        atsub!( xi, L, xj )    #Compute gradient for next iteration\n",
    "        gg = 0\n",
    "        dgg = 0.\n",
    "        for j = 1:n\n",
    "           gg = gg+ g[j]^2\n",
    "           dgg = dgg + ( xi[j] + g[j])*xi[j]\n",
    "        end\n",
    "\n",
    "        ( gg == 0. )  && return rsq  # A rare but normal return\n",
    "\n",
    "        gam = dgg / gg\n",
    "        for j = 1:n\n",
    "            g[j] = -xi[j]\n",
    "            h[j] = g[j] + gam * h[j]\n",
    "        end\n",
    "    end\n",
    "\n",
    "    @error \"Too many iterations\"\n",
    "\n",
    "end"
   ],
   "metadata": {},
   "execution_count": null
  },
  {
   "cell_type": "markdown",
   "source": [
    "+"
   ],
   "metadata": {}
  },
  {
   "outputs": [],
   "cell_type": "code",
   "source": [
    "n = 100\n",
    "nsq = n * n\n",
    "\n",
    "b = zeros(nsq)\n",
    "x = zeros(nsq)\n",
    "\n",
    "phi = zeros(n,n)\n",
    "rho = zeros(n,n)\n",
    "\n",
    "xgrid = LinRange( -pi, pi, n)\n",
    "ygrid = LinRange( -pi, pi, n)\n",
    "\n",
    "h = 2π / (n-1)\n",
    "\n",
    "L = buildsparsematrix(n)\n",
    "\n",
    "rho .= 2 .* sin.(xgrid) .* sin.(ygrid)'\n",
    "\n",
    "for i = 2:n-1, j = 2:n-1\n",
    "\n",
    "    k = ( i-1) * n + j\n",
    "    b[k] = rho[i,j]  * h^2\n",
    "\n",
    "end\n",
    "\n",
    "@show rsq = sparsecg!( x, L, b )\n",
    "\n",
    "for i = 1:n, j = 1:n\n",
    "    k = (i-1) * n + j\n",
    "    phi[ i, j] = x[k]\n",
    "end\n",
    "\n",
    "println( norm( phi .- sin.(xgrid) .* sin.(ygrid)'))\n",
    "\n",
    "surface(phi)"
   ],
   "metadata": {},
   "execution_count": null
  },
  {
   "cell_type": "markdown",
   "source": [
    "-"
   ],
   "metadata": {}
  },
  {
   "outputs": [],
   "cell_type": "code",
   "source": [
    "using DifferentialEquations\n",
    "\n",
    "CenteredDifference{2}(2, 2, h, 100)"
   ],
   "metadata": {},
   "execution_count": null
  },
  {
   "cell_type": "markdown",
   "source": [
    "---\n",
    "\n",
    "*This notebook was generated using [Literate.jl](https://github.com/fredrikekre/Literate.jl).*"
   ],
   "metadata": {}
  }
 ],
 "nbformat_minor": 3,
 "metadata": {
  "language_info": {
   "file_extension": ".jl",
   "mimetype": "application/julia",
   "name": "julia",
   "version": "1.5.2"
  },
  "kernelspec": {
   "name": "julia-1.5",
   "display_name": "Julia 1.5.2",
   "language": "julia"
  }
 },
 "nbformat": 4
}
