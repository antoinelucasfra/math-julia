{
 "cells": [
  {
   "cell_type": "markdown",
   "metadata": {},
   "source": [
    "# Runge-Kutta methods"
   ]
  },
  {
   "cell_type": "code",
   "execution_count": null,
   "metadata": {},
   "outputs": [],
   "source": [
    "using Plots\n",
    "gr()"
   ]
  },
  {
   "cell_type": "markdown",
   "metadata": {},
   "source": [
    "We will implement in Julia different numerical methods to solve\n",
    "\n",
    "$$\n",
    "y'(t) = 1 - y(t)\n",
    "$$\n",
    "\n",
    "$ t \\in [0,5] \\qquad \\mbox{ and } \\qquad y(0) = 0 $"
   ]
  },
  {
   "cell_type": "markdown",
   "metadata": {},
   "source": [
    "## Explicit Euler"
   ]
  },
  {
   "cell_type": "code",
   "execution_count": null,
   "metadata": {},
   "outputs": [],
   "source": [
    "\"\"\"\n",
    "\n",
    "   euler(f::Function, t::Float64, y::Float64, dt::Float64)\n",
    "\n",
    "explicit euler method function that returns\n",
    "\n",
    "\\begin{equation}\n",
    "y^{n+1} = y^n + dt \\\\cdot f(t^n, y^n)\n",
    "\\end{equation}\n",
    "\n",
    "*Example*\n",
    "\n",
    "```julia-repl\n",
    "julia> f(t, y) =  1 - y\n",
    "julia> euler(f, 0.0, 0.0, 1.0)\n",
    "1.0, 1.0\n",
    "```\n",
    "\n",
    "\"\"\"\n",
    "function euler(f::Function, t::Float64, y::Float64, dt::Float64)\n",
    "    t + dt, y + dt * f(t,y)\n",
    "end"
   ]
  },
  {
   "cell_type": "code",
   "execution_count": null,
   "metadata": {},
   "outputs": [],
   "source": [
    "?euler"
   ]
  },
  {
   "cell_type": "markdown",
   "metadata": {},
   "source": [
    "## Runge-Kutta 2nd order"
   ]
  },
  {
   "cell_type": "code",
   "execution_count": null,
   "metadata": {},
   "outputs": [],
   "source": [
    "\"\"\"\n",
    "\n",
    "   rk2(f::Function, t::Float64, y::Float64,  dt::Float64)\n",
    "\n",
    "Runge-Kutta second order method function\n",
    "\n",
    "# Examples\n",
    "```jldoctest\n",
    "julia> f(t,y) = 1 - y\n",
    "julia> rk2(f, 0.0, 0.0, 1.0)\n",
    "(1.0, 0.5)\n",
    "```\n",
    "\n",
    "\"\"\"\n",
    "function rk2(f::Function, t::Float64, y::Float64,  dt::Float64)\n",
    "    ỹ = y + f(t,y)*dt/2\n",
    "    t + dt, y + f(t+dt/2,ỹ)*dt\n",
    "end"
   ]
  },
  {
   "cell_type": "code",
   "execution_count": null,
   "metadata": {},
   "outputs": [],
   "source": [
    "?rk2"
   ]
  },
  {
   "cell_type": "code",
   "execution_count": null,
   "metadata": {},
   "outputs": [],
   "source": [
    "f(t,y) = 1 - y\n",
    "rk2(f, 0.0, 0.0, 1.0)"
   ]
  },
  {
   "cell_type": "code",
   "execution_count": null,
   "metadata": {},
   "outputs": [],
   "source": [
    "?rk2"
   ]
  },
  {
   "cell_type": "markdown",
   "metadata": {},
   "source": [
    "## Runge-Kutta 4th order"
   ]
  },
  {
   "cell_type": "code",
   "execution_count": null,
   "metadata": {},
   "outputs": [],
   "source": [
    "\"\"\"\n",
    "\n",
    "   rk4(f::Function, t::Float64, y::Float64,  dt::Float64)\n",
    "\n",
    "Runge-Kutta fourth order method function\n",
    "\n",
    "[Runge–Kutta methods on Wikipedia](https://en.wikipedia.org/wiki/Runge–Kutta_methods)\n",
    "\n",
    "\"\"\"\n",
    "function rk4(f::Function, t::Float64, y::Float64,  dt::Float64)\n",
    "\n",
    "    y₁ = dt * f(t,y)\n",
    "    y₂ = dt * f(t+dt/2,y+y₁/2)\n",
    "    y₃ = dt * f(t+dt/2,y+y₂/2)\n",
    "    y₄ = dt * f(t+dt,y+y₃)\n",
    "\n",
    "    t+dt, y+(y₁+2*y₂+2*y₃+y₄)/6\n",
    "\n",
    "end"
   ]
  },
  {
   "cell_type": "code",
   "execution_count": null,
   "metadata": {},
   "outputs": [],
   "source": [
    "?rk4"
   ]
  },
  {
   "cell_type": "markdown",
   "metadata": {},
   "source": [
    "## Solver function"
   ]
  },
  {
   "cell_type": "code",
   "execution_count": null,
   "metadata": {},
   "outputs": [],
   "source": [
    "\"\"\"\n",
    "\n",
    "    solver(f::Function, Method::Function, t₀::Float64,\n",
    "                y₀::Float64, dt::Float64, nsteps::Int64)\n",
    "\n",
    "Solve numerically the equation ``y' = f(t, y)``\n",
    "\n",
    "with `y(t₀)= y₀` and `nsteps` time step `dt`\n",
    "\n",
    "# Arguments\n",
    "- `f::Function`: the function `f` of equation ``y' = f(t,y)``.\n",
    "- `Method::Function`: numerical method from (tⁿ,yⁿ) returns ``(t^{n+1},y^{n+1})``\n",
    "\n",
    "\n",
    "\"\"\"\n",
    "function solver(f::Function,\n",
    "                Method::Function,\n",
    "                t₀::Float64,\n",
    "                y₀::Float64, dt::Float64, nsteps::Int64)\n",
    "\n",
    "    t = zeros(Float64,nsteps)\n",
    "    y = similar(t)\n",
    "\n",
    "    t[1] = t₀\n",
    "    y[1] = y₀\n",
    "\n",
    "    for i in 2:nsteps\n",
    "       t[i], y[i] = Method(f,t[i-1],y[i-1], dt)\n",
    "    end\n",
    "\n",
    "    t, y\n",
    "\n",
    "end"
   ]
  },
  {
   "cell_type": "code",
   "execution_count": null,
   "metadata": {},
   "outputs": [],
   "source": [
    "?solver"
   ]
  },
  {
   "cell_type": "code",
   "execution_count": null,
   "metadata": {},
   "outputs": [],
   "source": [
    "f(t, y) = 1 - y\n",
    "solver(f, euler, 0.0,0.0, 1.0, 1)"
   ]
  },
  {
   "cell_type": "code",
   "execution_count": null,
   "metadata": {},
   "outputs": [],
   "source": [
    "nsteps  = 7\n",
    "tfinal  = 5.0\n",
    "t₀ = 0.\n",
    "x₀ = 0.0\n",
    "\n",
    "dt = tfinal / nsteps\n",
    "f(t, x) = 1 - x"
   ]
  },
  {
   "cell_type": "code",
   "execution_count": null,
   "metadata": {},
   "outputs": [],
   "source": [
    "plot(solver(f, euler, t₀, x₀, dt, nsteps), marker = :o, label=:euler)\n",
    "plot!(solver(f, rk2, t₀, x₀, dt, nsteps), marker= :o,   label=:rk2)\n",
    "plot!(solver(f, rk4, t₀, x₀, dt, nsteps), marker = :o,  label=:rk4)\n",
    "t = t₀:dt:tfinal\n",
    "plot!(t, 1 .- exp.(-t),label = :exact)"
   ]
  },
  {
   "cell_type": "markdown",
   "metadata": {},
   "source": [
    "Creating expressions via interpolation"
   ]
  },
  {
   "cell_type": "markdown",
   "metadata": {},
   "source": [
    "We want to create a solver function with the method choosen at initialization."
   ]
  },
  {
   "cell_type": "code",
   "execution_count": null,
   "metadata": {},
   "outputs": [],
   "source": [
    "macro make_method( meth)\n",
    "    return quote\n",
    "        function (f::Function, t₀::Float64,\n",
    "                  x₀::Float64, dt::Float64, nsteps::Int64)\n",
    "\n",
    "            t = zeros(Float64,nsteps)\n",
    "            x = zeros(Float64,nsteps)\n",
    "\n",
    "            t[1] = t₀\n",
    "            x[1] = x₀\n",
    "\n",
    "            for i in 2:nsteps\n",
    "               t[i], x[i] = $meth(f,t[i-1],x[i-1], dt)\n",
    "            end\n",
    "\n",
    "            return t, x\n",
    "        end\n",
    "    end\n",
    "end"
   ]
  },
  {
   "cell_type": "code",
   "execution_count": null,
   "metadata": {},
   "outputs": [],
   "source": [
    "rk4_solver = @make_method rk4"
   ]
  },
  {
   "cell_type": "code",
   "execution_count": 35,
   "metadata": {},
   "outputs": [
    {
     "data": {
      "image/svg+xml": [
       "<?xml version=\"1.0\" encoding=\"utf-8\"?>\n",
       "<svg xmlns=\"http://www.w3.org/2000/svg\" xmlns:xlink=\"http://www.w3.org/1999/xlink\" width=\"600\" height=\"400\" viewBox=\"0 0 2400 1600\">\n",
       "<defs>\n",
       "  <clipPath id=\"clip2900\">\n",
       "    <rect x=\"0\" y=\"0\" width=\"2000\" height=\"2000\"/>\n",
       "  </clipPath>\n",
       "</defs>\n",
       "<defs>\n",
       "  <clipPath id=\"clip2901\">\n",
       "    <rect x=\"0\" y=\"0\" width=\"2400\" height=\"1600\"/>\n",
       "  </clipPath>\n",
       "</defs>\n",
       "<polygon clip-path=\"url(#clip2901)\" points=\"\n",
       "0,1600 2400,1600 2400,0 0,0 \n",
       "  \" fill=\"#ffffff\" fill-opacity=\"1\"/>\n",
       "<defs>\n",
       "  <clipPath id=\"clip2902\">\n",
       "    <rect x=\"480\" y=\"0\" width=\"1681\" height=\"1600\"/>\n",
       "  </clipPath>\n",
       "</defs>\n",
       "<polygon clip-path=\"url(#clip2901)\" points=\"\n",
       "188.156,1503.47 2321.26,1503.47 2321.26,47.2441 188.156,47.2441 \n",
       "  \" fill=\"#ffffff\" fill-opacity=\"1\"/>\n",
       "<defs>\n",
       "  <clipPath id=\"clip2903\">\n",
       "    <rect x=\"188\" y=\"47\" width=\"2134\" height=\"1457\"/>\n",
       "  </clipPath>\n",
       "</defs>\n",
       "<polyline clip-path=\"url(#clip2903)\" style=\"stroke:#000000; stroke-width:2; stroke-opacity:0.1; fill:none\" points=\"\n",
       "  248.527,1503.47 248.527,47.2441 \n",
       "  \"/>\n",
       "<polyline clip-path=\"url(#clip2903)\" style=\"stroke:#000000; stroke-width:2; stroke-opacity:0.1; fill:none\" points=\"\n",
       "  718.078,1503.47 718.078,47.2441 \n",
       "  \"/>\n",
       "<polyline clip-path=\"url(#clip2903)\" style=\"stroke:#000000; stroke-width:2; stroke-opacity:0.1; fill:none\" points=\"\n",
       "  1187.63,1503.47 1187.63,47.2441 \n",
       "  \"/>\n",
       "<polyline clip-path=\"url(#clip2903)\" style=\"stroke:#000000; stroke-width:2; stroke-opacity:0.1; fill:none\" points=\"\n",
       "  1657.18,1503.47 1657.18,47.2441 \n",
       "  \"/>\n",
       "<polyline clip-path=\"url(#clip2903)\" style=\"stroke:#000000; stroke-width:2; stroke-opacity:0.1; fill:none\" points=\"\n",
       "  2126.73,1503.47 2126.73,47.2441 \n",
       "  \"/>\n",
       "<polyline clip-path=\"url(#clip2903)\" style=\"stroke:#000000; stroke-width:2; stroke-opacity:0.1; fill:none\" points=\"\n",
       "  188.156,1462.26 2321.26,1462.26 \n",
       "  \"/>\n",
       "<polyline clip-path=\"url(#clip2903)\" style=\"stroke:#000000; stroke-width:2; stroke-opacity:0.1; fill:none\" points=\"\n",
       "  188.156,1113.93 2321.26,1113.93 \n",
       "  \"/>\n",
       "<polyline clip-path=\"url(#clip2903)\" style=\"stroke:#000000; stroke-width:2; stroke-opacity:0.1; fill:none\" points=\"\n",
       "  188.156,765.607 2321.26,765.607 \n",
       "  \"/>\n",
       "<polyline clip-path=\"url(#clip2903)\" style=\"stroke:#000000; stroke-width:2; stroke-opacity:0.1; fill:none\" points=\"\n",
       "  188.156,417.281 2321.26,417.281 \n",
       "  \"/>\n",
       "<polyline clip-path=\"url(#clip2903)\" style=\"stroke:#000000; stroke-width:2; stroke-opacity:0.1; fill:none\" points=\"\n",
       "  188.156,68.9538 2321.26,68.9538 \n",
       "  \"/>\n",
       "<polyline clip-path=\"url(#clip2901)\" style=\"stroke:#000000; stroke-width:4; stroke-opacity:1; fill:none\" points=\"\n",
       "  188.156,1503.47 2321.26,1503.47 \n",
       "  \"/>\n",
       "<polyline clip-path=\"url(#clip2901)\" style=\"stroke:#000000; stroke-width:4; stroke-opacity:1; fill:none\" points=\"\n",
       "  188.156,1503.47 188.156,47.2441 \n",
       "  \"/>\n",
       "<polyline clip-path=\"url(#clip2901)\" style=\"stroke:#000000; stroke-width:4; stroke-opacity:1; fill:none\" points=\"\n",
       "  248.527,1503.47 248.527,1481.63 \n",
       "  \"/>\n",
       "<polyline clip-path=\"url(#clip2901)\" style=\"stroke:#000000; stroke-width:4; stroke-opacity:1; fill:none\" points=\"\n",
       "  718.078,1503.47 718.078,1481.63 \n",
       "  \"/>\n",
       "<polyline clip-path=\"url(#clip2901)\" style=\"stroke:#000000; stroke-width:4; stroke-opacity:1; fill:none\" points=\"\n",
       "  1187.63,1503.47 1187.63,1481.63 \n",
       "  \"/>\n",
       "<polyline clip-path=\"url(#clip2901)\" style=\"stroke:#000000; stroke-width:4; stroke-opacity:1; fill:none\" points=\"\n",
       "  1657.18,1503.47 1657.18,1481.63 \n",
       "  \"/>\n",
       "<polyline clip-path=\"url(#clip2901)\" style=\"stroke:#000000; stroke-width:4; stroke-opacity:1; fill:none\" points=\"\n",
       "  2126.73,1503.47 2126.73,1481.63 \n",
       "  \"/>\n",
       "<polyline clip-path=\"url(#clip2901)\" style=\"stroke:#000000; stroke-width:4; stroke-opacity:1; fill:none\" points=\"\n",
       "  188.156,1462.26 220.153,1462.26 \n",
       "  \"/>\n",
       "<polyline clip-path=\"url(#clip2901)\" style=\"stroke:#000000; stroke-width:4; stroke-opacity:1; fill:none\" points=\"\n",
       "  188.156,1113.93 220.153,1113.93 \n",
       "  \"/>\n",
       "<polyline clip-path=\"url(#clip2901)\" style=\"stroke:#000000; stroke-width:4; stroke-opacity:1; fill:none\" points=\"\n",
       "  188.156,765.607 220.153,765.607 \n",
       "  \"/>\n",
       "<polyline clip-path=\"url(#clip2901)\" style=\"stroke:#000000; stroke-width:4; stroke-opacity:1; fill:none\" points=\"\n",
       "  188.156,417.281 220.153,417.281 \n",
       "  \"/>\n",
       "<polyline clip-path=\"url(#clip2901)\" style=\"stroke:#000000; stroke-width:4; stroke-opacity:1; fill:none\" points=\"\n",
       "  188.156,68.9538 220.153,68.9538 \n",
       "  \"/>\n",
       "<g clip-path=\"url(#clip2901)\">\n",
       "<text style=\"fill:#000000; fill-opacity:1; font-family:Arial,Helvetica Neue,Helvetica,sans-serif; font-size:48px; text-anchor:middle;\" transform=\"rotate(0, 248.527, 1557.47)\" x=\"248.527\" y=\"1557.47\">0</text>\n",
       "</g>\n",
       "<g clip-path=\"url(#clip2901)\">\n",
       "<text style=\"fill:#000000; fill-opacity:1; font-family:Arial,Helvetica Neue,Helvetica,sans-serif; font-size:48px; text-anchor:middle;\" transform=\"rotate(0, 718.078, 1557.47)\" x=\"718.078\" y=\"1557.47\">1</text>\n",
       "</g>\n",
       "<g clip-path=\"url(#clip2901)\">\n",
       "<text style=\"fill:#000000; fill-opacity:1; font-family:Arial,Helvetica Neue,Helvetica,sans-serif; font-size:48px; text-anchor:middle;\" transform=\"rotate(0, 1187.63, 1557.47)\" x=\"1187.63\" y=\"1557.47\">2</text>\n",
       "</g>\n",
       "<g clip-path=\"url(#clip2901)\">\n",
       "<text style=\"fill:#000000; fill-opacity:1; font-family:Arial,Helvetica Neue,Helvetica,sans-serif; font-size:48px; text-anchor:middle;\" transform=\"rotate(0, 1657.18, 1557.47)\" x=\"1657.18\" y=\"1557.47\">3</text>\n",
       "</g>\n",
       "<g clip-path=\"url(#clip2901)\">\n",
       "<text style=\"fill:#000000; fill-opacity:1; font-family:Arial,Helvetica Neue,Helvetica,sans-serif; font-size:48px; text-anchor:middle;\" transform=\"rotate(0, 2126.73, 1557.47)\" x=\"2126.73\" y=\"1557.47\">4</text>\n",
       "</g>\n",
       "<g clip-path=\"url(#clip2901)\">\n",
       "<text style=\"fill:#000000; fill-opacity:1; font-family:Arial,Helvetica Neue,Helvetica,sans-serif; font-size:48px; text-anchor:end;\" transform=\"rotate(0, 164.156, 1479.76)\" x=\"164.156\" y=\"1479.76\">0.00</text>\n",
       "</g>\n",
       "<g clip-path=\"url(#clip2901)\">\n",
       "<text style=\"fill:#000000; fill-opacity:1; font-family:Arial,Helvetica Neue,Helvetica,sans-serif; font-size:48px; text-anchor:end;\" transform=\"rotate(0, 164.156, 1131.43)\" x=\"164.156\" y=\"1131.43\">0.25</text>\n",
       "</g>\n",
       "<g clip-path=\"url(#clip2901)\">\n",
       "<text style=\"fill:#000000; fill-opacity:1; font-family:Arial,Helvetica Neue,Helvetica,sans-serif; font-size:48px; text-anchor:end;\" transform=\"rotate(0, 164.156, 783.107)\" x=\"164.156\" y=\"783.107\">0.50</text>\n",
       "</g>\n",
       "<g clip-path=\"url(#clip2901)\">\n",
       "<text style=\"fill:#000000; fill-opacity:1; font-family:Arial,Helvetica Neue,Helvetica,sans-serif; font-size:48px; text-anchor:end;\" transform=\"rotate(0, 164.156, 434.781)\" x=\"164.156\" y=\"434.781\">0.75</text>\n",
       "</g>\n",
       "<g clip-path=\"url(#clip2901)\">\n",
       "<text style=\"fill:#000000; fill-opacity:1; font-family:Arial,Helvetica Neue,Helvetica,sans-serif; font-size:48px; text-anchor:end;\" transform=\"rotate(0, 164.156, 86.4538)\" x=\"164.156\" y=\"86.4538\">1.00</text>\n",
       "</g>\n",
       "<polyline clip-path=\"url(#clip2903)\" style=\"stroke:#009af9; stroke-width:4; stroke-opacity:1; fill:none\" points=\"\n",
       "  248.527,1462.26 583.921,752.961 919.314,404.75 1254.71,233.804 1590.1,149.883 1925.5,108.684 2260.89,88.4582 \n",
       "  \"/>\n",
       "<polygon clip-path=\"url(#clip2901)\" points=\"\n",
       "1958.43,251.724 2249.26,251.724 2249.26,130.764 1958.43,130.764 \n",
       "  \" fill=\"#ffffff\" fill-opacity=\"1\"/>\n",
       "<polyline clip-path=\"url(#clip2901)\" style=\"stroke:#000000; stroke-width:4; stroke-opacity:1; fill:none\" points=\"\n",
       "  1958.43,251.724 2249.26,251.724 2249.26,130.764 1958.43,130.764 1958.43,251.724 \n",
       "  \"/>\n",
       "<polyline clip-path=\"url(#clip2901)\" style=\"stroke:#009af9; stroke-width:4; stroke-opacity:1; fill:none\" points=\"\n",
       "  1982.43,191.244 2126.43,191.244 \n",
       "  \"/>\n",
       "<g clip-path=\"url(#clip2901)\">\n",
       "<text style=\"fill:#000000; fill-opacity:1; font-family:Arial,Helvetica Neue,Helvetica,sans-serif; font-size:48px; text-anchor:start;\" transform=\"rotate(0, 2150.43, 208.744)\" x=\"2150.43\" y=\"208.744\">y1</text>\n",
       "</g>\n",
       "</svg>\n"
      ]
     },
     "execution_count": 35,
     "metadata": {},
     "output_type": "execute_result"
    }
   ],
   "source": [
    "plot(rk4_solver(f, t₀, x₀, dt, nsteps))"
   ]
  },
  {
   "cell_type": "markdown",
   "metadata": {},
   "source": [
    "La méthode de Runge-Kutta d'ordre ''q'' sera donc donnée par :\n",
    "$$\n",
    "\\forall i = 1, \\dotsc, q, \\begin{cases}t_{n,i} &= t_n + c_i h_n, \\\\ \n",
    "y_{n,i} &= y_n + h_n \\sum_{k = 1}^{i-1} a_{ik} p_{n,k}\\\\ \n",
    "p_{n,i} &= f(t_{n,i}, y_{n,i}) \\end{cases}\n",
    "$$\n",
    "\n",
    "$$\n",
    "y_{n+1} = y_n + h_n \\sum_{k = 1}^q b_k p_{n,k}.\n",
    "$$\n"
   ]
  },
  {
   "cell_type": "markdown",
   "metadata": {},
   "source": [
    "## Butcher Tableau\n",
    "\n",
    "~~~\n",
    "c_1\n",
    "c_2  a_{21}\n",
    "c_3  a_{31} a_{32} \n",
    "c_4  a_{41} a_{42} a_{43} a_{44}\n",
    "     b_1    b_2    b_3    b_4\n",
    "~~~"
   ]
  },
  {
   "cell_type": "code",
   "execution_count": 36,
   "metadata": {},
   "outputs": [
    {
     "ename": "ErrorException",
     "evalue": "syntax: \"a = Array{Float64, 2}\" inside type definition is reserved",
     "output_type": "error",
     "traceback": [
      "syntax: \"a = Array{Float64, 2}\" inside type definition is reserved",
      ""
     ]
    }
   ],
   "source": [
    "struct RungeKutta\n",
    "    \n",
    "    a = Array{Float64, 2}\n",
    "    b = Array{Float64, 1}\n",
    "    c = Array{Float64, 1}\n",
    "    k = Array{Float64, 1}\n",
    "    \n",
    "    function RungeKutta( a, b, c)\n",
    "        \n",
    "        q = length(a)\n",
    "        k = zeros(Float64, q)\n",
    "        \n",
    "        new( a, b, c, k)\n",
    "    end\n",
    "    \n",
    "end\n",
    "    \n",
    "function (rk::RungeKutta)(f::Function, t::Float64, y::Float64,  dt::Float64)\n",
    "\n",
    "    for i = 1:q\n",
    "        \n",
    "    end\n",
    "    y₁ = α₁ * dt * f(t,y)\n",
    "    y₂ = α₂ * dt * f(t+dt/2,y+y₁/2)\n",
    "    y₃ = α₃ * dt * f(t+dt/2,y+y₂/2)\n",
    "    y₄ = α₄ * dt * f(t+dt,y+y₃)\n",
    "\n",
    "    t+dt, y+(y₁+2*y₂+2*y₃+y₄)/6\n",
    "\n",
    "end"
   ]
  },
  {
   "cell_type": "code",
   "execution_count": 38,
   "metadata": {},
   "outputs": [
    {
     "data": {
      "text/plain": [
       "4×4 Array{Float64,2}:\n",
       " 0.0  0.0  0.0  0.0\n",
       " 0.5  0.0  0.0  0.0\n",
       " 0.0  0.5  0.0  0.0\n",
       " 0.0  0.0  1.0  0.0"
      ]
     },
     "execution_count": 38,
     "metadata": {},
     "output_type": "execute_result"
    }
   ],
   "source": [
    "a = [ 0 0 0 0; 1/2 0 0 0; 0 1/2 0 0; 0 0 1 0]\n",
    "b = [0 1/2 1/2 1]\n",
    "c = [1/6 1/3 1/3 1/6]"
   ]
  },
  {
   "cell_type": "code",
   "execution_count": 39,
   "metadata": {},
   "outputs": [
    {
     "data": {
      "text/plain": [
       "0.5"
      ]
     },
     "execution_count": 39,
     "metadata": {},
     "output_type": "execute_result"
    }
   ],
   "source": [
    "a[2,1]"
   ]
  },
  {
   "cell_type": "code",
   "execution_count": 40,
   "metadata": {},
   "outputs": [
    {
     "data": {
      "text/plain": [
       "1.0"
      ]
     },
     "execution_count": 40,
     "metadata": {},
     "output_type": "execute_result"
    }
   ],
   "source": [
    "a[4,3]"
   ]
  },
  {
   "cell_type": "code",
   "execution_count": 41,
   "metadata": {},
   "outputs": [
    {
     "data": {
      "text/plain": [
       "1×4 Array{Float64,2}:\n",
       " 0.0  0.333333  0.666667  1.0"
      ]
     },
     "execution_count": 41,
     "metadata": {},
     "output_type": "execute_result"
    }
   ],
   "source": [
    "a = [ 0 0 0 0; 1/3 0 0 0; -1/3 1 0 0; 1 -1 1 0]\n",
    "b = [1/8 3/8 3/8 1/8]\n",
    "c = [0 1/3 2/3 1]"
   ]
  },
  {
   "cell_type": "markdown",
   "metadata": {},
   "source": [
    "[Reference](https://www.juliabloggers.com/runge-kutta-methods/):Ordinary Differential Equation Solvers: Runge-Kutta Methods by Christina Lee"
   ]
  },
  {
   "cell_type": "markdown",
   "metadata": {},
   "source": [
    "*This notebook was generated using [Literate.jl](https://github.com/fredrikekre/Literate.jl).*"
   ]
  }
 ],
 "metadata": {
  "kernelspec": {
   "display_name": "Julia 1.0.2",
   "language": "julia",
   "name": "julia-1.0"
  },
  "language_info": {
   "file_extension": ".jl",
   "mimetype": "application/julia",
   "name": "julia",
   "version": "1.0.2"
  }
 },
 "nbformat": 4,
 "nbformat_minor": 3
}
