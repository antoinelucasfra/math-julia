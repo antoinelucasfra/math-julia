{
 "cells": [
  {
   "outputs": [],
   "cell_type": "markdown",
   "source": [
    "# Runge-Kutta methods"
   ],
   "metadata": {}
  },
  {
   "outputs": [],
   "cell_type": "code",
   "source": [
    "using Plots\n",
    "pyplot()"
   ],
   "metadata": {},
   "execution_count": null
  },
  {
   "outputs": [],
   "cell_type": "markdown",
   "source": [
    "We will implement in Julia different numerical methods to solve\n",
    "\n",
    "$$\n",
    "y'(t) = 1 - y(t)\n",
    "$$\n",
    "\n",
    "$ t \\in [0,5] \\qquad \\mbox{ and } \\qquad y(0) = 0 $"
   ],
   "metadata": {}
  },
  {
   "outputs": [],
   "cell_type": "markdown",
   "source": [
    "## Explicit Euler"
   ],
   "metadata": {}
  },
  {
   "outputs": [],
   "cell_type": "code",
   "source": [
    "\"\"\"\n",
    "\n",
    "   euler(f::Function, t::Float64, y::Float64, dt::Float64)\n",
    "\n",
    "explicit euler method function that returns\n",
    "\n",
    "\\begin{equation}\n",
    "y^{n+1} = y^n + dt \\\\cdot f(t^n, y^n)\n",
    "\\end{equation}\n",
    "\n",
    "*Example*\n",
    "\n",
    "```julia-repl\n",
    "julia> f(t, y) =  1 - y\n",
    "julia> euler(f, 0.0, 0.0, 1.0)\n",
    "1.0, 1.0\n",
    "```\n",
    "\n",
    "\"\"\"\n",
    "function euler(f::Function, t::Float64, y::Float64, dt::Float64)\n",
    "    t + dt, y + dt * f(t,y)\n",
    "end"
   ],
   "metadata": {},
   "execution_count": null
  },
  {
   "outputs": [],
   "cell_type": "code",
   "source": [
    "?euler"
   ],
   "metadata": {},
   "execution_count": null
  },
  {
   "outputs": [],
   "cell_type": "markdown",
   "source": [
    "## Runge-Kutta 2nd order"
   ],
   "metadata": {}
  },
  {
   "outputs": [],
   "cell_type": "code",
   "source": [
    "\"\"\"\n",
    "\n",
    "   rk2(f::Function, t::Float64, y::Float64,  dt::Float64)\n",
    "\n",
    "Runge-Kutta second order method function\n",
    "\n",
    "# Examples\n",
    "```jldoctest\n",
    "julia> f(t,y) = 1 - y\n",
    "julia> rk2(f, 0.0, 0.0, 1.0)\n",
    "(1.0, 0.5)\n",
    "```\n",
    "\n",
    "\"\"\"\n",
    "function rk2(f::Function, t::Float64, y::Float64,  dt::Float64)\n",
    "    ỹ = y + f(t,y)*dt/2\n",
    "    t + dt, y + f(t+dt/2,ỹ)*dt\n",
    "end"
   ],
   "metadata": {},
   "execution_count": null
  },
  {
   "outputs": [],
   "cell_type": "code",
   "source": [
    "?rk2"
   ],
   "metadata": {},
   "execution_count": null
  },
  {
   "outputs": [],
   "cell_type": "code",
   "source": [
    "f(t,y) = 1 - y\n",
    "rk2(f, 0.0, 0.0, 1.0)"
   ],
   "metadata": {},
   "execution_count": null
  },
  {
   "outputs": [],
   "cell_type": "code",
   "source": [
    "?rk2"
   ],
   "metadata": {},
   "execution_count": null
  },
  {
   "outputs": [],
   "cell_type": "markdown",
   "source": [
    "## Runge-Kutta 4th order"
   ],
   "metadata": {}
  },
  {
   "outputs": [],
   "cell_type": "code",
   "source": [
    "\"\"\"\n",
    "\n",
    "   rk4(f::Function, t::Float64, y::Float64,  dt::Float64)\n",
    "\n",
    "Runge-Kutta fourth order method function\n",
    "\n",
    "[Runge–Kutta methods on Wikipedia](https://en.wikipedia.org/wiki/Runge–Kutta_methods)\n",
    "\n",
    "\"\"\"\n",
    "function rk4(f::Function, t::Float64, y::Float64,  dt::Float64)\n",
    "\n",
    "    y₁ = dt * f(t,y)\n",
    "    y₂ = dt * f(t+dt/2,y+y₁/2)\n",
    "    y₃ = dt * f(t+dt/2,y+y₂/2)\n",
    "    y₄ = dt * f(t+dt,y+y₃)\n",
    "\n",
    "    t+dt, y+(y₁+2*y₂+2*y₃+y₄)/6\n",
    "\n",
    "end"
   ],
   "metadata": {},
   "execution_count": null
  },
  {
   "outputs": [],
   "cell_type": "code",
   "source": [
    "?rk4"
   ],
   "metadata": {},
   "execution_count": null
  },
  {
   "outputs": [],
   "cell_type": "markdown",
   "source": [
    "## Solver function"
   ],
   "metadata": {}
  },
  {
   "outputs": [],
   "cell_type": "code",
   "source": [
    "\"\"\"\n",
    "\n",
    "    solver(f::Function, Method::Function, t₀::Float64,\n",
    "                y₀::Float64, dt::Float64, nsteps::Int64)\n",
    "\n",
    "Solve numerically the equation ``y' = f(t, y)``\n",
    "\n",
    "with `y(t₀)= y₀` and `nsteps` time step `dt`\n",
    "\n",
    "# Arguments\n",
    "- `f::Function`: the function `f` of equation ``y' = f(t,y)``.\n",
    "- `Method::Function`: numerical method from (tⁿ,yⁿ) returns ``(t^{n+1},y^{n+1})``\n",
    "\n",
    "\n",
    "\"\"\"\n",
    "function solver(f::Function,\n",
    "                Method::Function,\n",
    "                t₀::Float64,\n",
    "                y₀::Float64, dt::Float64, nsteps::Int64)\n",
    "\n",
    "    t = zeros(Float64,nsteps)\n",
    "    y = similar(t)\n",
    "\n",
    "    t[1] = t₀\n",
    "    y[1] = y₀\n",
    "\n",
    "    for i in 2:nsteps\n",
    "       t[i], y[i] = Method(f,t[i-1],y[i-1], dt)\n",
    "    end\n",
    "\n",
    "    t, y\n",
    "\n",
    "end"
   ],
   "metadata": {},
   "execution_count": null
  },
  {
   "outputs": [],
   "cell_type": "code",
   "source": [
    "?solver"
   ],
   "metadata": {},
   "execution_count": null
  },
  {
   "outputs": [],
   "cell_type": "code",
   "source": [
    "f(t, y) = 1 - y\n",
    "solver(f, euler, 0.0,0.0, 1.0, 1)"
   ],
   "metadata": {},
   "execution_count": null
  },
  {
   "outputs": [],
   "cell_type": "code",
   "source": [
    "nsteps  = 7\n",
    "tfinal  = 5.0\n",
    "t₀ = 0.\n",
    "x₀ = 0.0\n",
    "\n",
    "dt = tfinal / nsteps\n",
    "f(t, x) = 1 - x"
   ],
   "metadata": {},
   "execution_count": null
  },
  {
   "outputs": [],
   "cell_type": "code",
   "source": [
    "plot(solver(f, euler, t₀, x₀, dt, nsteps), marker = :o, label=:euler)\n",
    "plot!(solver(f, rk2, t₀, x₀, dt, nsteps), marker= :o,   label=:rk2)\n",
    "plot!(solver(f, rk4, t₀, x₀, dt, nsteps), marker = :o,  label=:rk4)\n",
    "t = t₀:dt:tfinal\n",
    "plot!(t, 1 .- exp.(-t),label = :exact)"
   ],
   "metadata": {},
   "execution_count": null
  },
  {
   "outputs": [],
   "cell_type": "markdown",
   "source": [
    "Creating expressions via interpolation"
   ],
   "metadata": {}
  },
  {
   "outputs": [],
   "cell_type": "markdown",
   "source": [
    "We want to create a solver function with the method choosen at initialization."
   ],
   "metadata": {}
  },
  {
   "outputs": [],
   "cell_type": "code",
   "source": [
    "macro make_method( meth)\n",
    "    return quote\n",
    "        function (f::Function, t₀::Float64,\n",
    "                  x₀::Float64, dt::Float64, nsteps::Int64)\n",
    "\n",
    "            t = zeros(Float64,nsteps)\n",
    "            x = zeros(Float64,nsteps)\n",
    "\n",
    "            t[1] = t₀\n",
    "            x[1] = x₀\n",
    "\n",
    "            for i in 2:nsteps\n",
    "               t[i], x[i] = $meth(f,t[i-1],x[i-1], dt)\n",
    "            end\n",
    "\n",
    "            return t, x\n",
    "        end\n",
    "    end\n",
    "end"
   ],
   "metadata": {},
   "execution_count": null
  },
  {
   "outputs": [],
   "cell_type": "code",
   "source": [
    "rk4_solver = @make_method rk4"
   ],
   "metadata": {},
   "execution_count": null
  },
  {
   "outputs": [],
   "cell_type": "code",
   "source": [
    "plot(rk4_solver(f, t₀, x₀, dt, nsteps))"
   ],
   "metadata": {},
   "execution_count": null
  },
  {
   "outputs": [],
   "cell_type": "markdown",
   "source": [
    "[Reference](https://www.juliabloggers.com/runge-kutta-methods/):Ordinary Differential Equation Solvers: Runge-Kutta Methods by Christina Lee"
   ],
   "metadata": {}
  },
  {
   "outputs": [],
   "cell_type": "markdown",
   "source": [
    "*This notebook was generated using [Literate.jl](https://github.com/fredrikekre/Literate.jl).*"
   ],
   "metadata": {}
  }
 ],
 "nbformat_minor": 3,
 "metadata": {
  "language_info": {
   "file_extension": ".jl",
   "mimetype": "application/julia",
   "name": "julia",
   "version": "1.0.1"
  },
  "kernelspec": {
   "name": "julia-1.0",
   "display_name": "Julia 1.0.1",
   "language": "julia"
  }
 },
 "nbformat": 4
}
