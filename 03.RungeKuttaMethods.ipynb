{
 "cells": [
  {
   "cell_type": "markdown",
   "metadata": {},
   "source": [
    "# Runge-Kutta methods"
   ]
  },
  {
   "cell_type": "code",
   "execution_count": 79,
   "metadata": {},
   "outputs": [
    {
     "data": {
      "text/plain": [
       "Plots.PyPlotBackend()"
      ]
     },
     "execution_count": 79,
     "metadata": {},
     "output_type": "execute_result"
    }
   ],
   "source": [
    "using Plots\n",
    "pyplot()"
   ]
  },
  {
   "cell_type": "markdown",
   "metadata": {},
   "source": [
    "We will implement in Julia different numerical methods to solve\n",
    "\n",
    "$$\n",
    "y'(t) = 1 - y(t)\n",
    "$$\n",
    "\n",
    "$ t \\in [0,5] \\qquad \\mbox{ and } \\qquad y(0) = 0 $"
   ]
  },
  {
   "cell_type": "markdown",
   "metadata": {},
   "source": [
    "## Explicit Euler\n"
   ]
  },
  {
   "cell_type": "code",
   "execution_count": 80,
   "metadata": {},
   "outputs": [
    {
     "data": {
      "text/plain": [
       "euler"
      ]
     },
     "execution_count": 80,
     "metadata": {},
     "output_type": "execute_result"
    }
   ],
   "source": [
    "\"\"\"\n",
    "\n",
    "   euler(f::Function, t::Float64, y::Float64, dt::Float64)\n",
    "\n",
    "explicit euler method function that returns\n",
    "\n",
    "```math\n",
    "y^{n+1} = y^n + dt \\\\cdot f(t^n, y^n) \n",
    "```\n",
    "\n",
    "*Example*\n",
    "\n",
    "```julia-repl\n",
    "julia> f(t, y) =  1 - y\n",
    "julia> euler(f, 0.0, 0.0, 1.0)\n",
    "1.0, 1.0\n",
    "```\n",
    "\n",
    "\"\"\"\n",
    "function euler(f::Function, t::Float64, y::Float64, dt::Float64)\n",
    "    t + dt, y + dt * f(t,y)\n",
    "end"
   ]
  },
  {
   "cell_type": "code",
   "execution_count": 81,
   "metadata": {},
   "outputs": [
    {
     "name": "stdout",
     "output_type": "stream",
     "text": [
      "search: \u001b[0m\u001b[1me\u001b[22m\u001b[0m\u001b[1mu\u001b[22m\u001b[0m\u001b[1ml\u001b[22m\u001b[0m\u001b[1me\u001b[22m\u001b[0m\u001b[1mr\u001b[22m \u001b[0m\u001b[1me\u001b[22m\u001b[0m\u001b[1mu\u001b[22m\u001b[0m\u001b[1ml\u001b[22m\u001b[0m\u001b[1me\u001b[22m\u001b[0m\u001b[1mr\u001b[22m! sch\u001b[0m\u001b[1me\u001b[22md\u001b[0m\u001b[1mu\u001b[22m\u001b[0m\u001b[1ml\u001b[22m\u001b[0m\u001b[1me\u001b[22m Nam\u001b[0m\u001b[1me\u001b[22mdT\u001b[0m\u001b[1mu\u001b[22mp\u001b[0m\u001b[1ml\u001b[22m\u001b[0m\u001b[1me\u001b[22m promot\u001b[0m\u001b[1me\u001b[22m_r\u001b[0m\u001b[1mu\u001b[22m\u001b[0m\u001b[1ml\u001b[22m\u001b[0m\u001b[1me\u001b[22m bar\u001b[0m\u001b[1me\u001b[22mmod\u001b[0m\u001b[1mu\u001b[22m\u001b[0m\u001b[1ml\u001b[22m\u001b[0m\u001b[1me\u001b[22m par\u001b[0m\u001b[1me\u001b[22mntmod\u001b[0m\u001b[1mu\u001b[22m\u001b[0m\u001b[1ml\u001b[22m\u001b[0m\u001b[1me\u001b[22m\n",
      "\n"
     ]
    },
    {
     "data": {
      "text/markdown": [
       "euler(f::Function, t::Float64, y::Float64, dt::Float64)\n",
       "\n",
       "explicit euler method function that returns\n",
       "\n",
       "$$\n",
       "y^{n+1} = y^n + dt \\cdot f(t^n, y^n) \n",
       "$$\n",
       "\n",
       "*Example*\n",
       "\n",
       "```julia-repl\n",
       "julia> f(t, y) =  1 - y\n",
       "julia> euler(f, 0.0, 0.0, 1.0)\n",
       "1.0, 1.0\n",
       "```\n"
      ],
      "text/plain": [
       "  euler(f::Function, t::Float64, y::Float64, dt::Float64)\n",
       "\n",
       "  explicit euler method function that returns\n",
       "\n",
       "\u001b[35my^{n+1} = y^n + dt \\cdot f(t^n, y^n) \u001b[39m\n",
       "\n",
       "  \u001b[4mExample\u001b[24m\n",
       "\n",
       "\u001b[36m  julia> f(t, y) =  1 - y\u001b[39m\n",
       "\u001b[36m  julia> euler(f, 0.0, 0.0, 1.0)\u001b[39m\n",
       "\u001b[36m  1.0, 1.0\u001b[39m"
      ]
     },
     "execution_count": 81,
     "metadata": {},
     "output_type": "execute_result"
    }
   ],
   "source": [
    "?euler"
   ]
  },
  {
   "cell_type": "markdown",
   "metadata": {},
   "source": [
    "## Runge-Kutta 2nd order"
   ]
  },
  {
   "cell_type": "code",
   "execution_count": null,
   "metadata": {},
   "outputs": [],
   "source": [
    "\"\"\"\n",
    "\n",
    "   rk2(f::Function, t::Float64, y::Float64,  dt::Float64)\n",
    "\n",
    "Runge-Kutta second order method function\n",
    "\n",
    "# Examples\n",
    "```jldoctest\n",
    "julia> f(t,y) = 1 - y\n",
    "julia> rk2(f, 0.0, 0.0, 1.0)\n",
    "(1.0, 0.5)\n",
    "```\n",
    "\n",
    "\"\"\"\n",
    "function rk2(f::Function, t::Float64, y::Float64,  dt::Float64) \n",
    "    ỹ = y + f(t,y)*dt/2\n",
    "    t + dt, y + f(t+dt/2,ỹ)*dt\n",
    "end"
   ]
  },
  {
   "cell_type": "code",
   "execution_count": null,
   "metadata": {},
   "outputs": [],
   "source": [
    "?rk2"
   ]
  },
  {
   "cell_type": "code",
   "execution_count": null,
   "metadata": {},
   "outputs": [],
   "source": []
  },
  {
   "cell_type": "code",
   "execution_count": 83,
   "metadata": {},
   "outputs": [
    {
     "data": {
      "text/plain": [
       "(1.0, 0.5)"
      ]
     },
     "execution_count": 83,
     "metadata": {},
     "output_type": "execute_result"
    }
   ],
   "source": [
    "f(t,y) = 1 - y\n",
    "rk2(f, 0.0, 0.0, 1.0)"
   ]
  },
  {
   "cell_type": "code",
   "execution_count": 84,
   "metadata": {},
   "outputs": [
    {
     "name": "stdout",
     "output_type": "stream",
     "text": [
      "search: \u001b[0m\u001b[1mr\u001b[22m\u001b[0m\u001b[1mk\u001b[22m\u001b[0m\u001b[1m2\u001b[22m\n",
      "\n"
     ]
    },
    {
     "data": {
      "text/markdown": [
       "rk2(f::Function, t::Float64, y::Float64,  dt::Float64)\n",
       "\n",
       "Runge-Kutta second order method function\n",
       "\n",
       "# Examples\n",
       "\n",
       "```jldoctest\n",
       "julia> f(t,y) = 1 - y\n",
       "julia> rk2(f, 0.0, 0.0, 1.0)\n",
       "(1.0, 0.5)\n",
       "```\n"
      ],
      "text/plain": [
       "  rk2(f::Function, t::Float64, y::Float64, dt::Float64)\n",
       "\n",
       "  Runge-Kutta second order method function\n",
       "\n",
       "\u001b[1m  Examples\u001b[22m\n",
       "\u001b[1m  ≡≡≡≡≡≡≡≡≡≡\u001b[22m\n",
       "\n",
       "\u001b[36m  julia> f(t,y) = 1 - y\u001b[39m\n",
       "\u001b[36m  julia> rk2(f, 0.0, 0.0, 1.0)\u001b[39m\n",
       "\u001b[36m  (1.0, 0.5)\u001b[39m"
      ]
     },
     "execution_count": 84,
     "metadata": {},
     "output_type": "execute_result"
    }
   ],
   "source": [
    "?rk2"
   ]
  },
  {
   "cell_type": "markdown",
   "metadata": {},
   "source": [
    "## Runge-Kutta 4th order"
   ]
  },
  {
   "cell_type": "code",
   "execution_count": 85,
   "metadata": {},
   "outputs": [
    {
     "data": {
      "text/plain": [
       "rk4"
      ]
     },
     "execution_count": 85,
     "metadata": {},
     "output_type": "execute_result"
    }
   ],
   "source": [
    "\"\"\"\n",
    "\n",
    "   rk4(f::Function, t::Float64, y::Float64,  dt::Float64)\n",
    "\n",
    "Runge-Kutta fourth order method function\n",
    "\n",
    "[Runge–Kutta methods on Wikipedia](https://en.wikipedia.org/wiki/Runge–Kutta_methods)\n",
    "\n",
    "\"\"\"\n",
    "function rk4(f::Function, t::Float64, y::Float64,  dt::Float64)\n",
    "\n",
    "    y₁ = dt * f(t,y)\n",
    "    y₂ = dt * f(t+dt/2,y+y₁/2)\n",
    "    y₃ = dt * f(t+dt/2,y+y₂/2)\n",
    "    y₄ = dt * f(t+dt,y+y₃)\n",
    "\n",
    "    t+dt, y+(y₁+2*y₂+2*y₃+y₄)/6\n",
    "    \n",
    "end"
   ]
  },
  {
   "cell_type": "code",
   "execution_count": 86,
   "metadata": {},
   "outputs": [
    {
     "name": "stdout",
     "output_type": "stream",
     "text": [
      "search: \u001b[0m\u001b[1mr\u001b[22m\u001b[0m\u001b[1mk\u001b[22m\u001b[0m\u001b[1m4\u001b[22m\n",
      "\n"
     ]
    },
    {
     "data": {
      "text/markdown": [
       "rk4(f::Function, t::Float64, y::Float64,  dt::Float64)\n",
       "\n",
       "Runge-Kutta fourth order method function\n",
       "\n",
       "[Runge–Kutta methods on Wikipedia](https://en.wikipedia.org/wiki/Runge–Kutta_methods)\n"
      ],
      "text/plain": [
       "  rk4(f::Function, t::Float64, y::Float64, dt::Float64)\n",
       "\n",
       "  Runge-Kutta fourth order method function\n",
       "\n",
       "  Runge–Kutta methods on Wikipedia\n",
       "  (https://en.wikipedia.org/wiki/Runge–Kutta_methods)"
      ]
     },
     "execution_count": 86,
     "metadata": {},
     "output_type": "execute_result"
    }
   ],
   "source": [
    "?rk4"
   ]
  },
  {
   "cell_type": "markdown",
   "metadata": {},
   "source": [
    "## Solver function"
   ]
  },
  {
   "cell_type": "code",
   "execution_count": 87,
   "metadata": {},
   "outputs": [
    {
     "data": {
      "text/plain": [
       "solver"
      ]
     },
     "execution_count": 87,
     "metadata": {},
     "output_type": "execute_result"
    }
   ],
   "source": [
    "\"\"\"\n",
    "\n",
    "    solver(f::Function, Method::Function, t₀::Float64,\n",
    "                y₀::Float64, dt::Float64, nsteps::Int64)\n",
    "\n",
    "Solve numerically the equation ``y' = f(t, y)``\n",
    "\n",
    "with `y(t₀)= y₀` and `nsteps` time step `dt`\n",
    "\n",
    "# Arguments\n",
    "- `f::Function`: the function `f` of equation ``y' = f(t,y)``.\n",
    "- `Method::Function`: numerical method from (tⁿ,yⁿ) returns ``(t^{n+1},y^{n+1})``\n",
    "\n",
    "\n",
    "\"\"\"\n",
    "function solver(f::Function, \n",
    "                Method::Function, \n",
    "                t₀::Float64,\n",
    "                y₀::Float64, dt::Float64, nsteps::Int64)\n",
    "    \n",
    "    t = zeros(Float64,nsteps)\n",
    "    y = similar(t)\n",
    "\n",
    "    t[1] = t₀\n",
    "    y[1] = y₀\n",
    "\n",
    "    for i in 2:nsteps\n",
    "       t[i], y[i] = Method(f,t[i-1],y[i-1], dt)\n",
    "    end\n",
    "\n",
    "    t, y\n",
    "    \n",
    "end"
   ]
  },
  {
   "cell_type": "code",
   "execution_count": 88,
   "metadata": {},
   "outputs": [
    {
     "name": "stdout",
     "output_type": "stream",
     "text": [
      "search: \u001b[0m\u001b[1ms\u001b[22m\u001b[0m\u001b[1mo\u001b[22m\u001b[0m\u001b[1ml\u001b[22m\u001b[0m\u001b[1mv\u001b[22m\u001b[0m\u001b[1me\u001b[22m\u001b[0m\u001b[1mr\u001b[22m\n",
      "\n"
     ]
    },
    {
     "data": {
      "text/markdown": [
       "```\n",
       "solver(f::Function, Method::Function, t₀::Float64,\n",
       "            y₀::Float64, dt::Float64, nsteps::Int64)\n",
       "```\n",
       "\n",
       "Solve numerically the equation $y' = f(t, y)$\n",
       "\n",
       "with `y(t₀)= y₀` and `nsteps` time step `dt`\n",
       "\n",
       "# Arguments\n",
       "\n",
       "  * `f::Function`: the function `f` of equation $y' = f(t,y)$.\n",
       "  * `Method::Function`: numerical method from (tⁿ,yⁿ) returns $(t^{n+1},y^{n+1})$\n"
      ],
      "text/plain": [
       "\u001b[36m  solver(f::Function, Method::Function, t₀::Float64,\u001b[39m\n",
       "\u001b[36m              y₀::Float64, dt::Float64, nsteps::Int64)\u001b[39m\n",
       "\n",
       "  Solve numerically the equation \u001b[35my' = f(t, y)\u001b[39m\n",
       "\n",
       "  with \u001b[36my(t₀)= y₀\u001b[39m and \u001b[36mnsteps\u001b[39m time step \u001b[36mdt\u001b[39m\n",
       "\n",
       "\u001b[1m  Arguments\u001b[22m\n",
       "\u001b[1m  ≡≡≡≡≡≡≡≡≡≡≡\u001b[22m\n",
       "\n",
       "    •    \u001b[36mf::Function\u001b[39m: the function \u001b[36mf\u001b[39m of equation \u001b[35my' = f(t,y)\u001b[39m.\n",
       "\n",
       "    •    \u001b[36mMethod::Function\u001b[39m: numerical method from (tⁿ,yⁿ) returns\n",
       "        \u001b[35m(t^{n+1},y^{n+1})\u001b[39m"
      ]
     },
     "execution_count": 88,
     "metadata": {},
     "output_type": "execute_result"
    }
   ],
   "source": [
    "?solver"
   ]
  },
  {
   "cell_type": "code",
   "execution_count": 89,
   "metadata": {},
   "outputs": [
    {
     "data": {
      "text/plain": [
       "([0.0], [0.0])"
      ]
     },
     "execution_count": 89,
     "metadata": {},
     "output_type": "execute_result"
    }
   ],
   "source": [
    "f(t, y) = 1 - y\n",
    "solver(f, euler, 0.0,0.0, 1.0, 1)"
   ]
  },
  {
   "cell_type": "code",
   "execution_count": 94,
   "metadata": {},
   "outputs": [
    {
     "data": {
      "text/plain": [
       "f (generic function with 1 method)"
      ]
     },
     "execution_count": 94,
     "metadata": {},
     "output_type": "execute_result"
    }
   ],
   "source": [
    "nsteps  = 7\n",
    "tfinal  = 5.0\n",
    "t₀ = 0.\n",
    "x₀ = 0.0\n",
    "\n",
    "dt = tfinal / nsteps\n",
    "f(t, x) = 1 - x"
   ]
  },
  {
   "cell_type": "code",
   "execution_count": 95,
   "metadata": {},
   "outputs": [
    {
     "data": {
      "image/png": "[encoded data removed]"
     },
     "execution_count": 95,
     "metadata": {},
     "output_type": "execute_result"
    },
    {
     "name": "stderr",
     "output_type": "stream",
     "text": [
      "'c' argument looks like a single numeric RGB or RGBA sequence, which should be avoided as value-mapping will have precedence in case its length matches with 'x' & 'y'.  Please use a 2-D array with a single row if you really want to specify the same RGB or RGBA value for all points.\n",
      "'c' argument looks like a single numeric RGB or RGBA sequence, which should be avoided as value-mapping will have precedence in case its length matches with 'x' & 'y'.  Please use a 2-D array with a single row if you really want to specify the same RGB or RGBA value for all points.\n",
      "'c' argument looks like a single numeric RGB or RGBA sequence, which should be avoided as value-mapping will have precedence in case its length matches with 'x' & 'y'.  Please use a 2-D array with a single row if you really want to specify the same RGB or RGBA value for all points.\n"
     ]
    }
   ],
   "source": [
    "plot(solver(f, euler, t₀, x₀, dt, nsteps), marker = :o, label=:euler)\n",
    "plot!(solver(f, rk2, t₀, x₀, dt, nsteps), marker= :o,   label=:rk2)\n",
    "plot!(solver(f, rk4, t₀, x₀, dt, nsteps), marker = :o,  label=:rk4)\n",
    "t = t₀:dt:tfinal\n",
    "plot!(t, 1 .- exp.(-t),label = :exact)"
   ]
  },
  {
   "cell_type": "markdown",
   "metadata": {},
   "source": [
    "Creating expressions via interpolation"
   ]
  },
  {
   "cell_type": "markdown",
   "metadata": {},
   "source": [
    "We want to create a solver function with the method choosen at initialization."
   ]
  },
  {
   "cell_type": "code",
   "execution_count": 96,
   "metadata": {},
   "outputs": [
    {
     "data": {
      "text/plain": [
       "@make_method (macro with 1 method)"
      ]
     },
     "execution_count": 96,
     "metadata": {},
     "output_type": "execute_result"
    }
   ],
   "source": [
    "macro make_method( meth) \n",
    "    return quote\n",
    "        function (f::Function, t₀::Float64,\n",
    "                  x₀::Float64, dt::Float64, nsteps::Int64)\n",
    "        \n",
    "            t = zeros(Float64,nsteps)\n",
    "            x = zeros(Float64,nsteps)\n",
    "\n",
    "            t[1] = t₀\n",
    "            x[1] = x₀\n",
    "\n",
    "            for i in 2:nsteps\n",
    "               t[i], x[i] = $meth(f,t[i-1],x[i-1], dt)\n",
    "            end\n",
    "\n",
    "            return t, x\n",
    "        end\n",
    "    end\n",
    "end"
   ]
  },
  {
   "cell_type": "code",
   "execution_count": 97,
   "metadata": {},
   "outputs": [
    {
     "data": {
      "text/plain": [
       "#3 (generic function with 1 method)"
      ]
     },
     "execution_count": 97,
     "metadata": {},
     "output_type": "execute_result"
    }
   ],
   "source": [
    "rk4_solver = @make_method rk4"
   ]
  },
  {
   "cell_type": "code",
   "execution_count": 98,
   "metadata": {},
   "outputs": [
    {
     "data": {
      "image/png": "[encoded data removed]"
     },
     "execution_count": 98,
     "metadata": {},
     "output_type": "execute_result"
    }
   ],
   "source": [
    "plot(rk4_solver(f, t₀, x₀, dt, nsteps))"
   ]
  },
  {
   "cell_type": "code",
   "execution_count": null,
   "metadata": {},
   "outputs": [],
   "source": []
  },
  {
   "cell_type": "markdown",
   "metadata": {},
   "source": [
    "[Reference](https://www.juliabloggers.com/runge-kutta-methods/):Ordinary Differential Equation Solvers: Runge-Kutta Methods by Christina Lee"
   ]
  }
 ],
 "metadata": {
  "kernelspec": {
   "display_name": "Julia 1.0.1",
   "language": "julia",
   "name": "julia-1.0"
  },
  "language_info": {
   "file_extension": ".jl",
   "mimetype": "application/julia",
   "name": "julia",
   "version": "1.0.1"
  }
 },
 "nbformat": 4,
 "nbformat_minor": 2
}
