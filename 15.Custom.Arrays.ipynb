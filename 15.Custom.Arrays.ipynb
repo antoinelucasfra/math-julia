{
 "cells": [
  {
   "cell_type": "markdown",
   "metadata": {
    "slideshow": {
     "slide_type": "slide"
    }
   },
   "source": [
    "*An intro to high performance custom arrays by Matt Bauman*\n",
    "\n",
    "https://youtu.be/jS9eouMJf_Y"
   ]
  },
  {
   "cell_type": "code",
   "execution_count": 44,
   "metadata": {},
   "outputs": [],
   "source": [
    "using BenchmarkTools"
   ]
  },
  {
   "cell_type": "code",
   "execution_count": 45,
   "metadata": {},
   "outputs": [
    {
     "data": {
      "text/plain": [
       "1000×1000 Array{Float64,2}:\n",
       " 0.801982   0.243768   0.341278    …  0.837879   0.263734   0.446793 \n",
       " 0.452003   0.641526   0.0363849      0.626592   0.324803   0.14585  \n",
       " 0.994354   0.837405   0.756541       0.684074   0.823409   0.314149 \n",
       " 0.841755   0.431586   0.912753       0.769504   0.12217    0.638213 \n",
       " 0.367195   0.853167   0.54268        0.138248   0.547738   0.168017 \n",
       " 0.867034   0.696406   0.299208    …  0.211183   0.225516   0.156253 \n",
       " 0.490407   0.176928   0.818781       0.364192   0.217029   0.840258 \n",
       " 0.0960673  0.185475   0.967371       0.331174   0.577374   0.580567 \n",
       " 0.443353   0.10112    0.539404       0.480087   0.202106   0.322965 \n",
       " 0.561636   0.828645   0.55612        0.859837   0.975529   0.174393 \n",
       " 0.296877   0.0928802  0.591909    …  0.367502   0.0307187  0.899187 \n",
       " 0.210813   0.485484   0.397255       0.0620697  0.507131   0.517838 \n",
       " 0.80914    0.526056   0.267201       0.748461   0.246082   0.561428 \n",
       " ⋮                                 ⋱                                 \n",
       " 0.131157   0.348854   0.553935       0.077212   0.539741   0.0734839\n",
       " 0.658047   0.420762   0.653557       0.40729    0.547336   0.709036 \n",
       " 0.992482   0.226964   0.149911    …  0.932682   0.293922   0.653378 \n",
       " 0.630256   0.680101   0.615674       0.237771   0.397449   0.599437 \n",
       " 0.495378   0.958961   0.0308098      0.541228   0.579929   0.946382 \n",
       " 0.055849   0.970753   0.346495       0.518092   0.427017   0.429711 \n",
       " 0.133451   0.923057   0.42637        0.582508   0.556516   0.961651 \n",
       " 0.295154   0.994891   0.737558    …  0.846397   0.766711   0.204852 \n",
       " 0.88631    0.336746   0.00907651     0.0655548  0.566212   0.170403 \n",
       " 0.61337    0.512689   0.804163       0.672165   0.0442709  0.184354 \n",
       " 0.683205   0.469849   0.306243       0.239422   0.91203    0.832852 \n",
       " 0.508318   0.0413832  0.723764       0.16955    0.958264   0.72088  "
      ]
     },
     "execution_count": 45,
     "metadata": {},
     "output_type": "execute_result"
    }
   ],
   "source": [
    "A = rand(1000,1000)"
   ]
  },
  {
   "cell_type": "code",
   "execution_count": 46,
   "metadata": {},
   "outputs": [
    {
     "name": "stdout",
     "output_type": "stream",
     "text": [
      "  2.325 ms (2 allocations: 7.63 MiB)\n"
     ]
    },
    {
     "data": {
      "text/plain": [
       "500215.87431490654"
      ]
     },
     "execution_count": 46,
     "metadata": {},
     "output_type": "execute_result"
    }
   ],
   "source": [
    "function weighted_sum( A, weights=ones(size(A)))\n",
    "    r = zero(A[1])\n",
    "    for i in eachindex(A, weights)\n",
    "        r += A[i]*weights[i]\n",
    "    end\n",
    "    return r\n",
    "end\n",
    "@btime weighted_sum($A)"
   ]
  },
  {
   "cell_type": "code",
   "execution_count": 47,
   "metadata": {},
   "outputs": [
    {
     "name": "stdout",
     "output_type": "stream",
     "text": [
      "  255.154 μs (0 allocations: 0 bytes)\n"
     ]
    },
    {
     "data": {
      "text/plain": [
       "500215.87431491725"
      ]
     },
     "execution_count": 47,
     "metadata": {},
     "output_type": "execute_result"
    }
   ],
   "source": [
    "@btime sum($A)"
   ]
  },
  {
   "cell_type": "code",
   "execution_count": 48,
   "metadata": {},
   "outputs": [
    {
     "name": "stderr",
     "output_type": "stream",
     "text": [
      "WARNING: replacing module V1.\n"
     ]
    },
    {
     "data": {
      "text/plain": [
       "Main.V1"
      ]
     },
     "execution_count": 48,
     "metadata": {},
     "output_type": "execute_result"
    }
   ],
   "source": [
    "module V1\n",
    "struct OnesMatrix <: AbstractArray{Int, 2}\n",
    "    m::Int\n",
    "    n::Int\n",
    "end\n",
    "Base.size(o::OnesMatrix) = (o.m, o.n)\n",
    "Base.getindex(o::OnesMatrix, i::Int, j::Int) = 1\n",
    "end "
   ]
  },
  {
   "cell_type": "code",
   "execution_count": 49,
   "metadata": {},
   "outputs": [
    {
     "data": {
      "text/plain": [
       "1000×1000 Main.V1.OnesMatrix:\n",
       " 1  1  1  1  1  1  1  1  1  1  1  1  1  …  1  1  1  1  1  1  1  1  1  1  1  1\n",
       " 1  1  1  1  1  1  1  1  1  1  1  1  1     1  1  1  1  1  1  1  1  1  1  1  1\n",
       " 1  1  1  1  1  1  1  1  1  1  1  1  1     1  1  1  1  1  1  1  1  1  1  1  1\n",
       " 1  1  1  1  1  1  1  1  1  1  1  1  1     1  1  1  1  1  1  1  1  1  1  1  1\n",
       " 1  1  1  1  1  1  1  1  1  1  1  1  1     1  1  1  1  1  1  1  1  1  1  1  1\n",
       " 1  1  1  1  1  1  1  1  1  1  1  1  1  …  1  1  1  1  1  1  1  1  1  1  1  1\n",
       " 1  1  1  1  1  1  1  1  1  1  1  1  1     1  1  1  1  1  1  1  1  1  1  1  1\n",
       " 1  1  1  1  1  1  1  1  1  1  1  1  1     1  1  1  1  1  1  1  1  1  1  1  1\n",
       " 1  1  1  1  1  1  1  1  1  1  1  1  1     1  1  1  1  1  1  1  1  1  1  1  1\n",
       " 1  1  1  1  1  1  1  1  1  1  1  1  1     1  1  1  1  1  1  1  1  1  1  1  1\n",
       " 1  1  1  1  1  1  1  1  1  1  1  1  1  …  1  1  1  1  1  1  1  1  1  1  1  1\n",
       " 1  1  1  1  1  1  1  1  1  1  1  1  1     1  1  1  1  1  1  1  1  1  1  1  1\n",
       " 1  1  1  1  1  1  1  1  1  1  1  1  1     1  1  1  1  1  1  1  1  1  1  1  1\n",
       " ⋮              ⋮              ⋮        ⋱        ⋮              ⋮            \n",
       " 1  1  1  1  1  1  1  1  1  1  1  1  1     1  1  1  1  1  1  1  1  1  1  1  1\n",
       " 1  1  1  1  1  1  1  1  1  1  1  1  1     1  1  1  1  1  1  1  1  1  1  1  1\n",
       " 1  1  1  1  1  1  1  1  1  1  1  1  1  …  1  1  1  1  1  1  1  1  1  1  1  1\n",
       " 1  1  1  1  1  1  1  1  1  1  1  1  1     1  1  1  1  1  1  1  1  1  1  1  1\n",
       " 1  1  1  1  1  1  1  1  1  1  1  1  1     1  1  1  1  1  1  1  1  1  1  1  1\n",
       " 1  1  1  1  1  1  1  1  1  1  1  1  1     1  1  1  1  1  1  1  1  1  1  1  1\n",
       " 1  1  1  1  1  1  1  1  1  1  1  1  1     1  1  1  1  1  1  1  1  1  1  1  1\n",
       " 1  1  1  1  1  1  1  1  1  1  1  1  1  …  1  1  1  1  1  1  1  1  1  1  1  1\n",
       " 1  1  1  1  1  1  1  1  1  1  1  1  1     1  1  1  1  1  1  1  1  1  1  1  1\n",
       " 1  1  1  1  1  1  1  1  1  1  1  1  1     1  1  1  1  1  1  1  1  1  1  1  1\n",
       " 1  1  1  1  1  1  1  1  1  1  1  1  1     1  1  1  1  1  1  1  1  1  1  1  1\n",
       " 1  1  1  1  1  1  1  1  1  1  1  1  1     1  1  1  1  1  1  1  1  1  1  1  1"
      ]
     },
     "execution_count": 49,
     "metadata": {},
     "output_type": "execute_result"
    }
   ],
   "source": [
    "x = V1.OnesMatrix(1000,1000)"
   ]
  },
  {
   "cell_type": "code",
   "execution_count": 50,
   "metadata": {},
   "outputs": [
    {
     "name": "stdout",
     "output_type": "stream",
     "text": [
      "  1.733 ms (0 allocations: 0 bytes)\n"
     ]
    },
    {
     "data": {
      "text/plain": [
       "500215.87431490654"
      ]
     },
     "execution_count": 50,
     "metadata": {},
     "output_type": "execute_result"
    }
   ],
   "source": [
    "function weighted_sum( A, weights=V1.OnesMatrix(size(A)...))\n",
    "    r = zero(A[1])\n",
    "    for i in eachindex(A, weights)\n",
    "        r += A[i]*weights[i]\n",
    "    end\n",
    "    return r\n",
    "end\n",
    "@btime weighted_sum($A)"
   ]
  },
  {
   "cell_type": "markdown",
   "metadata": {},
   "source": [
    "Add bounds checking"
   ]
  },
  {
   "cell_type": "code",
   "execution_count": 51,
   "metadata": {},
   "outputs": [
    {
     "name": "stderr",
     "output_type": "stream",
     "text": [
      "WARNING: replacing module V2.\n"
     ]
    },
    {
     "data": {
      "text/plain": [
       "Main.V2"
      ]
     },
     "execution_count": 51,
     "metadata": {},
     "output_type": "execute_result"
    }
   ],
   "source": [
    "module V2\n",
    "struct OnesMatrix <: AbstractArray{Int, 2}\n",
    "    m::Int\n",
    "    n::Int\n",
    "end\n",
    "Base.size(o::OnesMatrix) = (o.m, o.n)\n",
    "function Base.getindex(o::OnesMatrix, i::Int, j::Int)\n",
    "    checkbounds(o, i, j)\n",
    "    1\n",
    "end\n",
    "end "
   ]
  },
  {
   "cell_type": "code",
   "execution_count": 52,
   "metadata": {},
   "outputs": [
    {
     "name": "stdout",
     "output_type": "stream",
     "text": [
      "  1.958 ms (0 allocations: 0 bytes)\n"
     ]
    },
    {
     "data": {
      "text/plain": [
       "500215.87431490654"
      ]
     },
     "execution_count": 52,
     "metadata": {},
     "output_type": "execute_result"
    }
   ],
   "source": [
    "function weighted_sum( A, weights=V2.OnesMatrix(size(A)...))\n",
    "    r = zero(A[1])\n",
    "    @inbounds for i in eachindex(A, weights)\n",
    "        r += A[i]*weights[i]\n",
    "    end\n",
    "    return r\n",
    "end\n",
    "@btime weighted_sum($A)"
   ]
  },
  {
   "cell_type": "code",
   "execution_count": 53,
   "metadata": {},
   "outputs": [
    {
     "name": "stderr",
     "output_type": "stream",
     "text": [
      "WARNING: replacing module V3.\n"
     ]
    },
    {
     "data": {
      "text/plain": [
       "Main.V3"
      ]
     },
     "execution_count": 53,
     "metadata": {},
     "output_type": "execute_result"
    }
   ],
   "source": [
    "module V3\n",
    "struct OnesMatrix <: AbstractArray{Int, 2}\n",
    "    m::Int\n",
    "    n::Int\n",
    "end\n",
    "Base.size(o::OnesMatrix) = (o.m, o.n)\n",
    "@inline function Base.getindex(o::OnesMatrix, i::Int, j::Int)\n",
    "    @boundscheck begin\n",
    "        checkbounds(o, i, j)\n",
    "    end\n",
    "    1\n",
    "end\n",
    "end "
   ]
  },
  {
   "cell_type": "code",
   "execution_count": 54,
   "metadata": {},
   "outputs": [
    {
     "name": "stdout",
     "output_type": "stream",
     "text": [
      "  1.679 ms (0 allocations: 0 bytes)\n"
     ]
    },
    {
     "data": {
      "text/plain": [
       "500215.87431490654"
      ]
     },
     "execution_count": 54,
     "metadata": {},
     "output_type": "execute_result"
    }
   ],
   "source": [
    "function weighted_sum( A, weights=V3.OnesMatrix(size(A)...))\n",
    "    r = zero(A[1])\n",
    "    @inbounds for i in eachindex(A, weights)\n",
    "        r += A[i]*weights[i]\n",
    "    end\n",
    "    return r\n",
    "end\n",
    "@btime weighted_sum($A)"
   ]
  },
  {
   "cell_type": "code",
   "execution_count": 55,
   "metadata": {},
   "outputs": [
    {
     "name": "stderr",
     "output_type": "stream",
     "text": [
      "WARNING: replacing module V4.\n"
     ]
    },
    {
     "data": {
      "text/plain": [
       "Main.V4"
      ]
     },
     "execution_count": 55,
     "metadata": {},
     "output_type": "execute_result"
    }
   ],
   "source": [
    "module V4\n",
    "struct OnesMatrix <: AbstractArray{Int, 2}\n",
    "    m::Int\n",
    "    n::Int\n",
    "end\n",
    "Base.size(o::OnesMatrix) = (o.m, o.n)\n",
    "Base.IndexStyle(::Type{OnesMatrix}) = IndexLinear()\n",
    "@inline function Base.getindex(o::OnesMatrix, i::Int)\n",
    "    @boundscheck begin\n",
    "        checkbounds(o, i)\n",
    "    end\n",
    "    1\n",
    "end\n",
    "end "
   ]
  },
  {
   "cell_type": "code",
   "execution_count": 58,
   "metadata": {},
   "outputs": [
    {
     "name": "stdout",
     "output_type": "stream",
     "text": [
      "  776.404 μs (0 allocations: 0 bytes)\n"
     ]
    },
    {
     "data": {
      "text/plain": [
       "500215.87431490654"
      ]
     },
     "execution_count": 58,
     "metadata": {},
     "output_type": "execute_result"
    }
   ],
   "source": [
    "function weighted_sum( A, weights=V4.OnesMatrix(size(A)...))\n",
    "    r = zero(A[1])\n",
    "    for i in eachindex(A, weights)\n",
    "        r += A[i]*weights[i]\n",
    "    end\n",
    "    return r\n",
    "end\n",
    "@btime weighted_sum($A)"
   ]
  },
  {
   "cell_type": "code",
   "execution_count": null,
   "metadata": {},
   "outputs": [],
   "source": []
  }
 ],
 "metadata": {
  "celltoolbar": "Slideshow",
  "kernelspec": {
   "display_name": "Julia 0.7.0",
   "language": "julia",
   "name": "julia-0.7"
  },
  "language_info": {
   "file_extension": ".jl",
   "mimetype": "application/julia",
   "name": "julia",
   "version": "0.7.0"
  }
 },
 "nbformat": 4,
 "nbformat_minor": 2
}
