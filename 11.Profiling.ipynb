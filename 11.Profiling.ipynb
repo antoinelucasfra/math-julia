{
 "cells": [
  {
   "cell_type": "markdown",
   "metadata": {},
   "source": [
    "# Julia is fast"
   ]
  },
  {
   "cell_type": "code",
   "execution_count": 1,
   "metadata": {},
   "outputs": [
    {
     "data": {
      "text/plain": [
       "10000000-element Array{Float64,1}:\n",
       " 0.06912063409191571 \n",
       " 0.6605555484137551  \n",
       " 0.7418959467920563  \n",
       " 0.09866981297598443 \n",
       " 0.3846042995236332  \n",
       " 0.4548823803226969  \n",
       " 0.8657346054689619  \n",
       " 0.38989284863551    \n",
       " 0.3399819051286541  \n",
       " 0.8493922951810273  \n",
       " 0.2614651972749511  \n",
       " 0.042737990127250214\n",
       " 0.5206661891205255  \n",
       " ⋮                   \n",
       " 0.8637683335042361  \n",
       " 0.8998884487693246  \n",
       " 0.6547660649215932  \n",
       " 0.3723075139295797  \n",
       " 0.39007897172249306 \n",
       " 0.5414786100923696  \n",
       " 0.49650684863517536 \n",
       " 0.9336377932892619  \n",
       " 0.14889720227563075 \n",
       " 0.3177230443052339  \n",
       " 0.7058313775112555  \n",
       " 0.6169634051674571  "
      ]
     },
     "execution_count": 1,
     "metadata": {},
     "output_type": "execute_result"
    }
   ],
   "source": [
    "a = rand(10^7)"
   ]
  },
  {
   "cell_type": "code",
   "execution_count": 2,
   "metadata": {},
   "outputs": [
    {
     "data": {
      "text/plain": [
       "0.5000879670603202"
      ]
     },
     "execution_count": 2,
     "metadata": {},
     "output_type": "execute_result"
    }
   ],
   "source": [
    "sum(a)/length(a)"
   ]
  },
  {
   "cell_type": "code",
   "execution_count": 3,
   "metadata": {},
   "outputs": [],
   "source": [
    "using BenchmarkTools, Libdl"
   ]
  },
  {
   "cell_type": "code",
   "execution_count": 4,
   "metadata": {},
   "outputs": [
    {
     "data": {
      "text/plain": [
       "c_sum (generic function with 1 method)"
      ]
     },
     "execution_count": 4,
     "metadata": {},
     "output_type": "execute_result"
    }
   ],
   "source": [
    "C_code = \"\"\"\n",
    "#include <stddef.h>\n",
    "double c_sum(size_t n, double *X) {\n",
    "    double s = 0.0;\n",
    "    for (size_t i = 0; i < n; ++i) {\n",
    "        s += X[i];\n",
    "    }\n",
    "    return s;\n",
    "}\n",
    "\"\"\"\n",
    "\n",
    "const Clib = tempname()   # make a temporary file\n",
    "\n",
    "\n",
    "# compile to a shared library by piping C_code to gcc\n",
    "# (works only if you have gcc installed):\n",
    "\n",
    "open(`gcc -fPIC -O3 -msse3 -xc -shared -o $(Clib * \".\" * Libdl.dlext) -`, \"w\") do f\n",
    "    print(f, C_code) \n",
    "end\n",
    "\n",
    "# define a Julia function that calls the C function:\n",
    "c_sum(X::Array{Float64}) = ccall((\"c_sum\", Clib), Float64, (Csize_t, Ptr{Float64}), length(X), X)"
   ]
  },
  {
   "cell_type": "code",
   "execution_count": 5,
   "metadata": {},
   "outputs": [
    {
     "data": {
      "text/plain": [
       "10000000-element Array{Float64,1}:\n",
       " 0.6987951608178609 \n",
       " 0.19972342860567838\n",
       " 0.6743865986637485 \n",
       " 0.4936267005960362 \n",
       " 0.4020847296684331 \n",
       " 0.7999804239881785 \n",
       " 0.5565583207999754 \n",
       " 0.19786558737490445\n",
       " 0.11525843077482323\n",
       " 0.8936256284890614 \n",
       " 0.9743632813264052 \n",
       " 0.42033237026053616\n",
       " 0.28865281913547225\n",
       " ⋮                  \n",
       " 0.5016295249786886 \n",
       " 0.7962582992993255 \n",
       " 0.8043036926836882 \n",
       " 0.25256037625339034\n",
       " 0.5039177287704752 \n",
       " 0.8250510920344358 \n",
       " 0.6887259603146056 \n",
       " 0.7992443790703772 \n",
       " 0.2669179786824609 \n",
       " 0.06717141232282797\n",
       " 0.1998934628722231 \n",
       " 0.3044968108082102 "
      ]
     },
     "execution_count": 5,
     "metadata": {},
     "output_type": "execute_result"
    }
   ],
   "source": [
    "a = rand(10^7)"
   ]
  },
  {
   "cell_type": "code",
   "execution_count": 6,
   "metadata": {
    "scrolled": true
   },
   "outputs": [
    {
     "data": {
      "text/plain": [
       "4.998491923572921e6"
      ]
     },
     "execution_count": 6,
     "metadata": {},
     "output_type": "execute_result"
    }
   ],
   "source": [
    "c_sum(a)"
   ]
  },
  {
   "cell_type": "code",
   "execution_count": 7,
   "metadata": {
    "scrolled": true
   },
   "outputs": [
    {
     "name": "stdout",
     "output_type": "stream",
     "text": [
      "function f_sum(n, x) result(s) bind(C, name=\"f_sum\")\n",
      "    use, intrinsic :: iso_c_binding, only: c_int, c_double\n",
      "    implicit none\n",
      "    integer(c_int) :: n\n",
      "    real(c_double) :: x(n)    \n",
      "    real(c_double) :: s\n",
      "    integer    :: i\n",
      "\n",
      "    s = 0.0\n",
      "    do i = 1, n\n",
      "      s = s + x(i)\n",
      "    end do\n",
      "\n",
      "end function f_sum\n"
     ]
    },
    {
     "data": {
      "text/plain": [
       "Process(`\u001b[4mcat\u001b[24m \u001b[4mfsum.f90\u001b[24m`, ProcessExited(0))"
      ]
     },
     "execution_count": 7,
     "metadata": {},
     "output_type": "execute_result"
    }
   ],
   "source": [
    "run(`cat fsum.f90`)"
   ]
  },
  {
   "cell_type": "code",
   "execution_count": 8,
   "metadata": {},
   "outputs": [
    {
     "data": {
      "text/plain": [
       "10-element Array{Float64,1}:\n",
       " 0.9613552369221878 \n",
       " 0.2541051629450206 \n",
       " 0.5779491860874129 \n",
       " 0.9772257090978973 \n",
       " 0.6669808293028874 \n",
       " 0.9694098903806068 \n",
       " 0.37675827430129716\n",
       " 0.4182268617804865 \n",
       " 0.8712572646725538 \n",
       " 0.5271436626312807 "
      ]
     },
     "execution_count": 8,
     "metadata": {},
     "output_type": "execute_result"
    }
   ],
   "source": [
    "b = rand(10)"
   ]
  },
  {
   "cell_type": "code",
   "execution_count": 9,
   "metadata": {},
   "outputs": [
    {
     "data": {
      "text/plain": [
       "Process(`\u001b[4mgfortran\u001b[24m \u001b[4m-fPIC\u001b[24m \u001b[4m-O3\u001b[24m \u001b[4m-shared\u001b[24m \u001b[4msumvec.F90\u001b[24m \u001b[4m-o\u001b[24m \u001b[4mlibsumvec.so\u001b[24m`, ProcessExited(0))"
      ]
     },
     "execution_count": 9,
     "metadata": {},
     "output_type": "execute_result"
    }
   ],
   "source": [
    "run(`gfortran -fPIC -O3 -shared sumvec.F90 -o libsumvec.so`)"
   ]
  },
  {
   "cell_type": "code",
   "execution_count": 10,
   "metadata": {},
   "outputs": [
    {
     "data": {
      "text/plain": [
       "3.0"
      ]
     },
     "execution_count": 10,
     "metadata": {},
     "output_type": "execute_result"
    }
   ],
   "source": [
    "function sumvec(x::Vector{Float64})\n",
    "    outsum = Ref(0.0)\n",
    "    N = Ref(length(x))\n",
    "    ccall((:sumvec_, \"./libsumvec.so\"), Nothing,\n",
    "        (Ptr{Float64}, Ref{Int64}, Ref{Float64}),\n",
    "        x, N, outsum)\n",
    "    return outsum[]\n",
    "end\n",
    "sumvec([1.0, 2.0])"
   ]
  },
  {
   "cell_type": "code",
   "execution_count": 11,
   "metadata": {},
   "outputs": [
    {
     "data": {
      "text/plain": [
       "10000000-element Array{Float64,1}:\n",
       " 0.7913418556781557  \n",
       " 0.17971002910667355 \n",
       " 0.5872893557991585  \n",
       " 0.4530415659964364  \n",
       " 0.9100096911726485  \n",
       " 0.5413760557393317  \n",
       " 0.46332971004719736 \n",
       " 0.4237333685868405  \n",
       " 0.3184429005866909  \n",
       " 0.5139495343006764  \n",
       " 0.9854312778595864  \n",
       " 0.4137041184735246  \n",
       " 0.1851021963791808  \n",
       " ⋮                   \n",
       " 0.10441693410961173 \n",
       " 0.824145547867482   \n",
       " 0.8090241638723381  \n",
       " 0.6463966356164685  \n",
       " 0.5198541072725753  \n",
       " 0.009030983487056776\n",
       " 0.5028057074176842  \n",
       " 0.7776178342988742  \n",
       " 0.5788767808122302  \n",
       " 0.25317445547426765 \n",
       " 0.8826012704344803  \n",
       " 0.8700314536549074  "
      ]
     },
     "execution_count": 11,
     "metadata": {},
     "output_type": "execute_result"
    }
   ],
   "source": [
    "X = rand(10^7)"
   ]
  }
 ],
 "metadata": {
  "kernelspec": {
   "display_name": "Julia 0.7.0",
   "language": "julia",
   "name": "julia-0.7"
  },
  "language_info": {
   "file_extension": ".jl",
   "mimetype": "application/julia",
   "name": "julia",
   "version": "0.7.0"
  }
 },
 "nbformat": 4,
 "nbformat_minor": 2
}
